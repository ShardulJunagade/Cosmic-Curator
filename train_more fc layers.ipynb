{
 "cells": [
  {
   "cell_type": "code",
   "execution_count": 1,
   "metadata": {
    "_cell_guid": "b1076dfc-b9ad-4769-8c92-a6c4dae69d19",
    "_uuid": "8f2839f25d086af736a60e9eeb907d3b93b6e0e5",
    "execution": {
     "iopub.execute_input": "2025-04-05T00:25:12.569924Z",
     "iopub.status.busy": "2025-04-05T00:25:12.569615Z",
     "iopub.status.idle": "2025-04-05T00:25:22.183831Z",
     "shell.execute_reply": "2025-04-05T00:25:22.183075Z",
     "shell.execute_reply.started": "2025-04-05T00:25:12.569901Z"
    },
    "trusted": true
   },
   "outputs": [
    {
     "name": "stdout",
     "output_type": "stream",
     "text": [
      "Using device: cuda\n"
     ]
    }
   ],
   "source": [
    "import os\n",
    "import numpy as np\n",
    "import pandas as pd\n",
    "import matplotlib.pyplot as plt\n",
    "from PIL import Image\n",
    "import torch\n",
    "import torch.nn as nn\n",
    "import torchvision.transforms as transforms\n",
    "from torchvision import models\n",
    "from torch.utils.data import Dataset, DataLoader, Subset\n",
    "from sklearn.metrics import f1_score\n",
    "from sklearn.model_selection import StratifiedShuffleSplit, train_test_split\n",
    "from tqdm import tqdm\n",
    "\n",
    "device = torch.device(\"cuda\" if torch.cuda.is_available() else \"cpu\")\n",
    "print(\"Using device:\", device)\n",
    "\n",
    "\n",
    "def set_all_seed(seed=42):\n",
    "    torch.manual_seed(seed)\n",
    "    if torch.cuda.is_available():\n",
    "        torch.cuda.manual_seed_all(seed)\n",
    "    np.random.seed(seed)\n",
    "seed = 0\n",
    "set_all_seed(seed=seed)"
   ]
  },
  {
   "cell_type": "code",
   "execution_count": null,
   "metadata": {
    "execution": {
     "iopub.execute_input": "2025-04-05T00:25:22.185259Z",
     "iopub.status.busy": "2025-04-05T00:25:22.184845Z",
     "iopub.status.idle": "2025-04-05T00:25:22.191532Z",
     "shell.execute_reply": "2025-04-05T00:25:22.190667Z",
     "shell.execute_reply.started": "2025-04-05T00:25:22.185236Z"
    },
    "trusted": true
   },
   "outputs": [],
   "source": [
    "# Paths\n",
    "# TRAIN_DIR = './cosmic-curator/train_images'\n",
    "# TEST_DIR = './cosmic-curator/test_images'\n",
    "# TRAIN_CSV = './cosmic-curator/train2.csv'\n",
    "\n",
    "TRAIN_DIR = '/kaggle/input/cosmic-curator/train_images/train_images'\n",
    "TEST_DIR = '/kaggle/input/cosmic-curator/test_images/test_images'\n",
    "TRAIN_CSV = '/kaggle/input/cosmic-curator/train2.csv'\n",
    "OUT_DIR = './results'\n",
    "if os.path.exists(OUT_DIR):\n",
    "    import shutil\n",
    "    shutil.rmtree(OUT_DIR)\n",
    "# create directory\n",
    "os.makedirs(OUT_DIR, exist_ok=True)\n",
    "OUT_TRAIN_CSV = os.path.join(OUT_DIR, 'train.csv')\n",
    "OUT_TEST_CSV = os.path.join(OUT_DIR, 'test.csv')\n",
    "DEVICE = torch.device(\"cuda\" if torch.cuda.is_available() else \"cpu\")\n",
    "\n",
    "# Parameters\n",
    "# BATCH_SIZE = 32\n",
    "BATCH_SIZE = 16\n",
    "NUM_CLASSES = 3\n",
    "NUM_EPOCHS = 50\n",
    "LEARNING_RATE = 1e-3\n",
    "IMG_SIZE = 424\n",
    "VAL_SPLIT = 0.1\n",
    "SAVE_CHECKPOINT = True"
   ]
  },
  {
   "cell_type": "code",
   "execution_count": 3,
   "metadata": {
    "execution": {
     "iopub.execute_input": "2025-04-05T00:25:22.193582Z",
     "iopub.status.busy": "2025-04-05T00:25:22.193208Z",
     "iopub.status.idle": "2025-04-05T00:25:22.224101Z",
     "shell.execute_reply": "2025-04-05T00:25:22.223374Z",
     "shell.execute_reply.started": "2025-04-05T00:25:22.193556Z"
    },
    "trusted": true
   },
   "outputs": [],
   "source": [
    "# --- Custom Dataset ---\n",
    "class GalaxyDataset(Dataset):\n",
    "    def __init__(self, df, img_dir, transform=None, is_test=False):\n",
    "        self.df = df.reset_index(drop=True)\n",
    "        self.img_dir = img_dir\n",
    "        self.transform = transform\n",
    "        self.is_test = is_test\n",
    "\n",
    "    def __len__(self):\n",
    "        return len(self.df)\n",
    "\n",
    "    def __getitem__(self, idx):\n",
    "        asset_id = self.df.loc[idx, 'asset_id']\n",
    "        img_path = os.path.join(self.img_dir, f\"{asset_id}.jpg\")\n",
    "        image = Image.open(img_path).convert(\"RGB\")\n",
    "\n",
    "        if self.transform:\n",
    "            image = self.transform(image)\n",
    "\n",
    "        if self.is_test:\n",
    "            return image, asset_id\n",
    "        else:\n",
    "            label = int(self.df.loc[idx, 'GalaxyType'])\n",
    "            return image, label\n",
    "\n",
    "# --- Transforms ---\n",
    "train_transform = transforms.Compose([\n",
    "    transforms.Resize((IMG_SIZE, IMG_SIZE)),\n",
    "    transforms.RandomHorizontalFlip(),\n",
    "    transforms.RandomRotation(30),\n",
    "    transforms.ColorJitter(brightness=0.2, contrast=0.2, saturation=0.2, hue=0.1),\n",
    "    transforms.RandomResizedCrop(IMG_SIZE, scale=(0.8, 1.0)),\n",
    "    transforms.ToTensor(),\n",
    "    transforms.Normalize([0.485, 0.456, 0.406],\n",
    "                         [0.229, 0.224, 0.225])\n",
    "])\n",
    "\n",
    "test_transform = transforms.Compose([\n",
    "    transforms.Resize((IMG_SIZE, IMG_SIZE)),\n",
    "    transforms.ToTensor(),\n",
    "    transforms.Normalize([0.485, 0.456, 0.406],\n",
    "                         [0.229, 0.224, 0.225])\n",
    "])\n"
   ]
  },
  {
   "cell_type": "code",
   "execution_count": 4,
   "metadata": {
    "execution": {
     "iopub.execute_input": "2025-04-05T00:25:22.225622Z",
     "iopub.status.busy": "2025-04-05T00:25:22.225330Z",
     "iopub.status.idle": "2025-04-05T00:25:22.289396Z",
     "shell.execute_reply": "2025-04-05T00:25:22.288561Z",
     "shell.execute_reply.started": "2025-04-05T00:25:22.225590Z"
    },
    "trusted": true
   },
   "outputs": [
    {
     "name": "stdout",
     "output_type": "stream",
     "text": [
      "Images in train set: 912\n",
      "Images in test set: 412\n",
      "After splitting into train and val sets:\n",
      "Train size: 727\n",
      "Val size: 182\n",
      "Test size: 412\n"
     ]
    }
   ],
   "source": [
    "# --- Load CSV ---\n",
    "train_df = pd.read_csv(TRAIN_CSV)\n",
    "print(\"Images in train set:\", len(train_df))\n",
    "# delete the images that are not in the train set\n",
    "train_img_asset_ids = [int(f.split('.')[0]) for f in os.listdir(TRAIN_DIR) if f.endswith('.jpg')]\n",
    "train_df = train_df[train_df['asset_id'].isin(train_img_asset_ids)]\n",
    "train_df = train_df.reset_index(drop=True)\n",
    "\n",
    "test_asset_ids = [int(f.split('.')[0]) for f in os.listdir(TEST_DIR) if f.endswith('.jpg')]\n",
    "test_df = pd.DataFrame({'asset_id': test_asset_ids})\n",
    "print(\"Images in test set:\", len(test_df))\n",
    "\n",
    "\n",
    "# --- Train/Val Split ---\n",
    "train_df, val_df = train_test_split(train_df, test_size=VAL_SPLIT, stratify=train_df['GalaxyType'], random_state=seed)\n",
    "train_df = train_df.reset_index(drop=True)\n",
    "val_df = val_df.reset_index(drop=True)\n",
    "print(\"After splitting into train and val sets:\")\n",
    "print(\"Train size:\", len(train_df))\n",
    "print(\"Val size:\", len(val_df))\n",
    "print(\"Test size:\", len(test_df))"
   ]
  },
  {
   "cell_type": "code",
   "execution_count": 5,
   "metadata": {
    "execution": {
     "iopub.execute_input": "2025-04-05T00:25:22.290437Z",
     "iopub.status.busy": "2025-04-05T00:25:22.290204Z",
     "iopub.status.idle": "2025-04-05T00:25:22.297897Z",
     "shell.execute_reply": "2025-04-05T00:25:22.297251Z",
     "shell.execute_reply.started": "2025-04-05T00:25:22.290407Z"
    },
    "trusted": true
   },
   "outputs": [
    {
     "name": "stdout",
     "output_type": "stream",
     "text": [
      "Train dataset size: 727\n",
      "Validation dataset size: 182\n",
      "Test dataset size: 412\n",
      "Train loader size: 46\n",
      "Validation loader size: 12\n",
      "Test loader size: 26\n"
     ]
    }
   ],
   "source": [
    "train_dataset = GalaxyDataset(train_df, TRAIN_DIR, transform=train_transform)\n",
    "val_dataset = GalaxyDataset(val_df, TRAIN_DIR, transform=test_transform)\n",
    "test_dataset = GalaxyDataset(test_df, TEST_DIR, transform=test_transform, is_test=True)\n",
    "print(\"Train dataset size:\", len(train_dataset))\n",
    "print(\"Validation dataset size:\", len(val_dataset)) \n",
    "print(\"Test dataset size:\", len(test_dataset))\n",
    "\n",
    "train_loader = DataLoader(train_dataset, batch_size=BATCH_SIZE, shuffle=True)\n",
    "val_loader = DataLoader(val_dataset, batch_size=BATCH_SIZE, shuffle=False)\n",
    "test_loader = DataLoader(test_dataset, batch_size=BATCH_SIZE, shuffle=False)\n",
    "\n",
    "print(\"Train loader size:\", len(train_loader))\n",
    "print(\"Validation loader size:\", len(val_loader))\n",
    "print(\"Test loader size:\", len(test_loader))"
   ]
  },
  {
   "cell_type": "code",
   "execution_count": 6,
   "metadata": {
    "execution": {
     "iopub.execute_input": "2025-04-05T00:25:22.298909Z",
     "iopub.status.busy": "2025-04-05T00:25:22.298649Z",
     "iopub.status.idle": "2025-04-05T00:25:23.038151Z",
     "shell.execute_reply": "2025-04-05T00:25:23.037461Z",
     "shell.execute_reply.started": "2025-04-05T00:25:22.298890Z"
    },
    "trusted": true
   },
   "outputs": [
    {
     "name": "stderr",
     "output_type": "stream",
     "text": [
      "/usr/local/lib/python3.10/dist-packages/torchvision/models/_utils.py:208: UserWarning: The parameter 'pretrained' is deprecated since 0.13 and may be removed in the future, please use 'weights' instead.\n",
      "  warnings.warn(\n",
      "/usr/local/lib/python3.10/dist-packages/torchvision/models/_utils.py:223: UserWarning: Arguments other than a weight enum or `None` for 'weights' are deprecated since 0.13 and may be removed in the future. The current behavior is equivalent to passing `weights=ResNet18_Weights.IMAGENET1K_V1`. You can also use `weights=ResNet18_Weights.DEFAULT` to get the most up-to-date weights.\n",
      "  warnings.warn(msg)\n",
      "Downloading: \"https://download.pytorch.org/models/resnet18-f37072fd.pth\" to /root/.cache/torch/hub/checkpoints/resnet18-f37072fd.pth\n",
      "100%|██████████| 44.7M/44.7M [00:00<00:00, 218MB/s]\n"
     ]
    }
   ],
   "source": [
    "# --- Model ---\n",
    "model = models.resnet18(pretrained=True)\n",
    "# model.fc = nn.Linear(model.fc.in_features, NUM_CLASSES)\n",
    "model.fc = nn.Sequential(\n",
    "    nn.Linear(model.fc.in_features, 256),\n",
    "    nn.ReLU(),\n",
    "    nn.Dropout(0.3),\n",
    "    nn.Linear(256, 3)\n",
    ")\n",
    "model = model.to(DEVICE)\n",
    "\n",
    "criterion = nn.CrossEntropyLoss()\n",
    "optimizer = torch.optim.Adam(model.parameters(), lr=LEARNING_RATE)"
   ]
  },
  {
   "cell_type": "code",
   "execution_count": 7,
   "metadata": {
    "execution": {
     "iopub.execute_input": "2025-04-05T00:25:23.039177Z",
     "iopub.status.busy": "2025-04-05T00:25:23.038950Z",
     "iopub.status.idle": "2025-04-05T00:45:06.539264Z",
     "shell.execute_reply": "2025-04-05T00:45:06.538338Z",
     "shell.execute_reply.started": "2025-04-05T00:25:23.039158Z"
    },
    "trusted": true
   },
   "outputs": [
    {
     "name": "stderr",
     "output_type": "stream",
     "text": [
      "Epoch 1 [Train]: 100%|██████████| 46/46 [00:27<00:00,  1.66it/s]\n",
      "Epoch 1 [Val]: 100%|██████████| 12/12 [00:02<00:00,  5.68it/s]\n"
     ]
    },
    {
     "name": "stdout",
     "output_type": "stream",
     "text": [
      "Epoch 1: Train Loss=0.9281, Train F1=0.4852, Val Loss=0.9990, Val F1=0.3767\n",
      "✅ Best model saved with Val F1=0.3767\n"
     ]
    },
    {
     "name": "stderr",
     "output_type": "stream",
     "text": [
      "Epoch 2 [Train]: 100%|██████████| 46/46 [00:22<00:00,  2.02it/s]\n",
      "Epoch 2 [Val]: 100%|██████████| 12/12 [00:01<00:00, 10.26it/s]\n"
     ]
    },
    {
     "name": "stdout",
     "output_type": "stream",
     "text": [
      "Epoch 2: Train Loss=0.8595, Train F1=0.4120, Val Loss=0.8804, Val F1=0.3246\n"
     ]
    },
    {
     "name": "stderr",
     "output_type": "stream",
     "text": [
      "Epoch 3 [Train]: 100%|██████████| 46/46 [00:22<00:00,  2.05it/s]\n",
      "Epoch 3 [Val]: 100%|██████████| 12/12 [00:01<00:00,  9.96it/s]\n"
     ]
    },
    {
     "name": "stdout",
     "output_type": "stream",
     "text": [
      "Epoch 3: Train Loss=0.7415, Train F1=0.5362, Val Loss=1.6581, Val F1=0.2349\n"
     ]
    },
    {
     "name": "stderr",
     "output_type": "stream",
     "text": [
      "Epoch 4 [Train]: 100%|██████████| 46/46 [00:22<00:00,  2.05it/s]\n",
      "Epoch 4 [Val]: 100%|██████████| 12/12 [00:01<00:00, 10.28it/s]\n"
     ]
    },
    {
     "name": "stdout",
     "output_type": "stream",
     "text": [
      "Epoch 4: Train Loss=0.7662, Train F1=0.5069, Val Loss=0.7685, Val F1=0.4116\n",
      "✅ Best model saved with Val F1=0.4116\n"
     ]
    },
    {
     "name": "stderr",
     "output_type": "stream",
     "text": [
      "Epoch 5 [Train]: 100%|██████████| 46/46 [00:22<00:00,  2.07it/s]\n",
      "Epoch 5 [Val]: 100%|██████████| 12/12 [00:01<00:00, 10.70it/s]\n"
     ]
    },
    {
     "name": "stdout",
     "output_type": "stream",
     "text": [
      "Epoch 5: Train Loss=0.7011, Train F1=0.6142, Val Loss=0.9652, Val F1=0.4206\n",
      "✅ Best model saved with Val F1=0.4206\n"
     ]
    },
    {
     "name": "stderr",
     "output_type": "stream",
     "text": [
      "Epoch 6 [Train]: 100%|██████████| 46/46 [00:22<00:00,  2.08it/s]\n",
      "Epoch 6 [Val]: 100%|██████████| 12/12 [00:01<00:00, 10.82it/s]\n"
     ]
    },
    {
     "name": "stdout",
     "output_type": "stream",
     "text": [
      "Epoch 6: Train Loss=0.7344, Train F1=0.5473, Val Loss=0.7764, Val F1=0.5724\n",
      "✅ Best model saved with Val F1=0.5724\n"
     ]
    },
    {
     "name": "stderr",
     "output_type": "stream",
     "text": [
      "Epoch 7 [Train]: 100%|██████████| 46/46 [00:22<00:00,  2.08it/s]\n",
      "Epoch 7 [Val]: 100%|██████████| 12/12 [00:01<00:00, 11.09it/s]\n"
     ]
    },
    {
     "name": "stdout",
     "output_type": "stream",
     "text": [
      "Epoch 7: Train Loss=0.7058, Train F1=0.5849, Val Loss=0.8241, Val F1=0.6579\n",
      "✅ Best model saved with Val F1=0.6579\n"
     ]
    },
    {
     "name": "stderr",
     "output_type": "stream",
     "text": [
      "Epoch 8 [Train]: 100%|██████████| 46/46 [00:22<00:00,  2.05it/s]\n",
      "Epoch 8 [Val]: 100%|██████████| 12/12 [00:01<00:00, 10.32it/s]\n"
     ]
    },
    {
     "name": "stdout",
     "output_type": "stream",
     "text": [
      "Epoch 8: Train Loss=0.7056, Train F1=0.6094, Val Loss=0.9003, Val F1=0.5051\n"
     ]
    },
    {
     "name": "stderr",
     "output_type": "stream",
     "text": [
      "Epoch 9 [Train]: 100%|██████████| 46/46 [00:21<00:00,  2.09it/s]\n",
      "Epoch 9 [Val]: 100%|██████████| 12/12 [00:01<00:00,  9.36it/s]\n"
     ]
    },
    {
     "name": "stdout",
     "output_type": "stream",
     "text": [
      "Epoch 9: Train Loss=0.7378, Train F1=0.5861, Val Loss=1.0670, Val F1=0.3937\n"
     ]
    },
    {
     "name": "stderr",
     "output_type": "stream",
     "text": [
      "Epoch 10 [Train]: 100%|██████████| 46/46 [00:22<00:00,  2.05it/s]\n",
      "Epoch 10 [Val]: 100%|██████████| 12/12 [00:01<00:00, 10.30it/s]\n"
     ]
    },
    {
     "name": "stdout",
     "output_type": "stream",
     "text": [
      "Epoch 10: Train Loss=0.7134, Train F1=0.6034, Val Loss=1.0760, Val F1=0.3898\n"
     ]
    },
    {
     "name": "stderr",
     "output_type": "stream",
     "text": [
      "Epoch 11 [Train]: 100%|██████████| 46/46 [00:22<00:00,  2.01it/s]\n",
      "Epoch 11 [Val]: 100%|██████████| 12/12 [00:01<00:00,  9.73it/s]\n"
     ]
    },
    {
     "name": "stdout",
     "output_type": "stream",
     "text": [
      "Epoch 11: Train Loss=0.7093, Train F1=0.6379, Val Loss=6.9673, Val F1=0.2349\n"
     ]
    },
    {
     "name": "stderr",
     "output_type": "stream",
     "text": [
      "Epoch 12 [Train]: 100%|██████████| 46/46 [00:22<00:00,  2.06it/s]\n",
      "Epoch 12 [Val]: 100%|██████████| 12/12 [00:01<00:00,  9.54it/s]\n"
     ]
    },
    {
     "name": "stdout",
     "output_type": "stream",
     "text": [
      "Epoch 12: Train Loss=0.7115, Train F1=0.6023, Val Loss=1.5745, Val F1=0.3770\n"
     ]
    },
    {
     "name": "stderr",
     "output_type": "stream",
     "text": [
      "Epoch 13 [Train]: 100%|██████████| 46/46 [00:22<00:00,  2.07it/s]\n",
      "Epoch 13 [Val]: 100%|██████████| 12/12 [00:01<00:00,  8.12it/s]\n"
     ]
    },
    {
     "name": "stdout",
     "output_type": "stream",
     "text": [
      "Epoch 13: Train Loss=0.7041, Train F1=0.5990, Val Loss=1.2194, Val F1=0.3150\n"
     ]
    },
    {
     "name": "stderr",
     "output_type": "stream",
     "text": [
      "Epoch 14 [Train]: 100%|██████████| 46/46 [00:22<00:00,  2.05it/s]\n",
      "Epoch 14 [Val]: 100%|██████████| 12/12 [00:01<00:00, 10.76it/s]\n"
     ]
    },
    {
     "name": "stdout",
     "output_type": "stream",
     "text": [
      "Epoch 14: Train Loss=0.6844, Train F1=0.6366, Val Loss=1.2377, Val F1=0.4659\n"
     ]
    },
    {
     "name": "stderr",
     "output_type": "stream",
     "text": [
      "Epoch 15 [Train]: 100%|██████████| 46/46 [00:22<00:00,  2.08it/s]\n",
      "Epoch 15 [Val]: 100%|██████████| 12/12 [00:01<00:00, 11.13it/s]\n"
     ]
    },
    {
     "name": "stdout",
     "output_type": "stream",
     "text": [
      "Epoch 15: Train Loss=0.6466, Train F1=0.6563, Val Loss=0.6908, Val F1=0.5285\n"
     ]
    },
    {
     "name": "stderr",
     "output_type": "stream",
     "text": [
      "Epoch 16 [Train]: 100%|██████████| 46/46 [00:22<00:00,  2.04it/s]\n",
      "Epoch 16 [Val]: 100%|██████████| 12/12 [00:01<00:00, 10.59it/s]\n"
     ]
    },
    {
     "name": "stdout",
     "output_type": "stream",
     "text": [
      "Epoch 16: Train Loss=0.6470, Train F1=0.6629, Val Loss=0.6937, Val F1=0.6371\n"
     ]
    },
    {
     "name": "stderr",
     "output_type": "stream",
     "text": [
      "Epoch 17 [Train]: 100%|██████████| 46/46 [00:22<00:00,  2.08it/s]\n",
      "Epoch 17 [Val]: 100%|██████████| 12/12 [00:01<00:00, 10.08it/s]\n"
     ]
    },
    {
     "name": "stdout",
     "output_type": "stream",
     "text": [
      "Epoch 17: Train Loss=0.6741, Train F1=0.6231, Val Loss=0.8441, Val F1=0.5602\n"
     ]
    },
    {
     "name": "stderr",
     "output_type": "stream",
     "text": [
      "Epoch 18 [Train]: 100%|██████████| 46/46 [00:22<00:00,  2.08it/s]\n",
      "Epoch 18 [Val]: 100%|██████████| 12/12 [00:01<00:00, 10.87it/s]\n"
     ]
    },
    {
     "name": "stdout",
     "output_type": "stream",
     "text": [
      "Epoch 18: Train Loss=0.6659, Train F1=0.6358, Val Loss=0.7599, Val F1=0.5565\n"
     ]
    },
    {
     "name": "stderr",
     "output_type": "stream",
     "text": [
      "Epoch 19 [Train]: 100%|██████████| 46/46 [00:22<00:00,  2.07it/s]\n",
      "Epoch 19 [Val]: 100%|██████████| 12/12 [00:01<00:00, 11.00it/s]\n"
     ]
    },
    {
     "name": "stdout",
     "output_type": "stream",
     "text": [
      "Epoch 19: Train Loss=0.6767, Train F1=0.6635, Val Loss=1.1298, Val F1=0.4290\n"
     ]
    },
    {
     "name": "stderr",
     "output_type": "stream",
     "text": [
      "Epoch 20 [Train]: 100%|██████████| 46/46 [00:22<00:00,  2.06it/s]\n",
      "Epoch 20 [Val]: 100%|██████████| 12/12 [00:01<00:00, 10.47it/s]\n"
     ]
    },
    {
     "name": "stdout",
     "output_type": "stream",
     "text": [
      "Epoch 20: Train Loss=0.6538, Train F1=0.6086, Val Loss=0.7843, Val F1=0.6529\n"
     ]
    },
    {
     "name": "stderr",
     "output_type": "stream",
     "text": [
      "Epoch 21 [Train]: 100%|██████████| 46/46 [00:21<00:00,  2.10it/s]\n",
      "Epoch 21 [Val]: 100%|██████████| 12/12 [00:01<00:00, 10.95it/s]\n"
     ]
    },
    {
     "name": "stdout",
     "output_type": "stream",
     "text": [
      "Epoch 21: Train Loss=0.6757, Train F1=0.6415, Val Loss=0.8595, Val F1=0.6167\n"
     ]
    },
    {
     "name": "stderr",
     "output_type": "stream",
     "text": [
      "Epoch 22 [Train]: 100%|██████████| 46/46 [00:21<00:00,  2.10it/s]\n",
      "Epoch 22 [Val]: 100%|██████████| 12/12 [00:01<00:00, 10.86it/s]\n"
     ]
    },
    {
     "name": "stdout",
     "output_type": "stream",
     "text": [
      "Epoch 22: Train Loss=0.6672, Train F1=0.6528, Val Loss=0.7454, Val F1=0.6025\n"
     ]
    },
    {
     "name": "stderr",
     "output_type": "stream",
     "text": [
      "Epoch 23 [Train]: 100%|██████████| 46/46 [00:22<00:00,  2.08it/s]\n",
      "Epoch 23 [Val]: 100%|██████████| 12/12 [00:01<00:00, 10.77it/s]\n"
     ]
    },
    {
     "name": "stdout",
     "output_type": "stream",
     "text": [
      "Epoch 23: Train Loss=0.6472, Train F1=0.6577, Val Loss=0.8767, Val F1=0.5053\n"
     ]
    },
    {
     "name": "stderr",
     "output_type": "stream",
     "text": [
      "Epoch 24 [Train]: 100%|██████████| 46/46 [00:22<00:00,  2.07it/s]\n",
      "Epoch 24 [Val]: 100%|██████████| 12/12 [00:01<00:00, 10.72it/s]\n"
     ]
    },
    {
     "name": "stdout",
     "output_type": "stream",
     "text": [
      "Epoch 24: Train Loss=0.6279, Train F1=0.6770, Val Loss=0.7275, Val F1=0.5969\n"
     ]
    },
    {
     "name": "stderr",
     "output_type": "stream",
     "text": [
      "Epoch 25 [Train]: 100%|██████████| 46/46 [00:22<00:00,  2.03it/s]\n",
      "Epoch 25 [Val]: 100%|██████████| 12/12 [00:01<00:00, 10.46it/s]\n"
     ]
    },
    {
     "name": "stdout",
     "output_type": "stream",
     "text": [
      "Epoch 25: Train Loss=0.6386, Train F1=0.6662, Val Loss=1.0180, Val F1=0.3831\n"
     ]
    },
    {
     "name": "stderr",
     "output_type": "stream",
     "text": [
      "Epoch 26 [Train]: 100%|██████████| 46/46 [00:22<00:00,  2.04it/s]\n",
      "Epoch 26 [Val]: 100%|██████████| 12/12 [00:01<00:00, 10.68it/s]\n"
     ]
    },
    {
     "name": "stdout",
     "output_type": "stream",
     "text": [
      "Epoch 26: Train Loss=0.6576, Train F1=0.6338, Val Loss=0.7116, Val F1=0.6698\n",
      "✅ Best model saved with Val F1=0.6698\n"
     ]
    },
    {
     "name": "stderr",
     "output_type": "stream",
     "text": [
      "Epoch 27 [Train]: 100%|██████████| 46/46 [00:22<00:00,  2.07it/s]\n",
      "Epoch 27 [Val]: 100%|██████████| 12/12 [00:01<00:00, 10.78it/s]\n"
     ]
    },
    {
     "name": "stdout",
     "output_type": "stream",
     "text": [
      "Epoch 27: Train Loss=0.6390, Train F1=0.6634, Val Loss=0.8495, Val F1=0.4586\n"
     ]
    },
    {
     "name": "stderr",
     "output_type": "stream",
     "text": [
      "Epoch 28 [Train]: 100%|██████████| 46/46 [00:22<00:00,  2.08it/s]\n",
      "Epoch 28 [Val]: 100%|██████████| 12/12 [00:01<00:00, 10.84it/s]\n"
     ]
    },
    {
     "name": "stdout",
     "output_type": "stream",
     "text": [
      "Epoch 28: Train Loss=0.6097, Train F1=0.6904, Val Loss=0.8275, Val F1=0.5860\n"
     ]
    },
    {
     "name": "stderr",
     "output_type": "stream",
     "text": [
      "Epoch 29 [Train]: 100%|██████████| 46/46 [00:22<00:00,  2.07it/s]\n",
      "Epoch 29 [Val]: 100%|██████████| 12/12 [00:01<00:00, 10.98it/s]\n"
     ]
    },
    {
     "name": "stdout",
     "output_type": "stream",
     "text": [
      "Epoch 29: Train Loss=0.6113, Train F1=0.6992, Val Loss=0.6706, Val F1=0.5313\n"
     ]
    },
    {
     "name": "stderr",
     "output_type": "stream",
     "text": [
      "Epoch 30 [Train]: 100%|██████████| 46/46 [00:22<00:00,  2.08it/s]\n",
      "Epoch 30 [Val]: 100%|██████████| 12/12 [00:01<00:00, 10.54it/s]\n"
     ]
    },
    {
     "name": "stdout",
     "output_type": "stream",
     "text": [
      "Epoch 30: Train Loss=0.6601, Train F1=0.6869, Val Loss=1.3723, Val F1=0.3607\n"
     ]
    },
    {
     "name": "stderr",
     "output_type": "stream",
     "text": [
      "Epoch 31 [Train]: 100%|██████████| 46/46 [00:22<00:00,  2.09it/s]\n",
      "Epoch 31 [Val]: 100%|██████████| 12/12 [00:01<00:00, 11.05it/s]\n"
     ]
    },
    {
     "name": "stdout",
     "output_type": "stream",
     "text": [
      "Epoch 31: Train Loss=0.6143, Train F1=0.6947, Val Loss=0.7209, Val F1=0.6350\n"
     ]
    },
    {
     "name": "stderr",
     "output_type": "stream",
     "text": [
      "Epoch 32 [Train]: 100%|██████████| 46/46 [00:22<00:00,  2.09it/s]\n",
      "Epoch 32 [Val]: 100%|██████████| 12/12 [00:01<00:00, 11.11it/s]\n"
     ]
    },
    {
     "name": "stdout",
     "output_type": "stream",
     "text": [
      "Epoch 32: Train Loss=0.6338, Train F1=0.6909, Val Loss=0.6453, Val F1=0.6907\n",
      "✅ Best model saved with Val F1=0.6907\n"
     ]
    },
    {
     "name": "stderr",
     "output_type": "stream",
     "text": [
      "Epoch 33 [Train]: 100%|██████████| 46/46 [00:21<00:00,  2.10it/s]\n",
      "Epoch 33 [Val]: 100%|██████████| 12/12 [00:01<00:00, 10.01it/s]\n"
     ]
    },
    {
     "name": "stdout",
     "output_type": "stream",
     "text": [
      "Epoch 33: Train Loss=0.6290, Train F1=0.6802, Val Loss=0.7286, Val F1=0.4861\n"
     ]
    },
    {
     "name": "stderr",
     "output_type": "stream",
     "text": [
      "Epoch 34 [Train]: 100%|██████████| 46/46 [00:22<00:00,  2.07it/s]\n",
      "Epoch 34 [Val]: 100%|██████████| 12/12 [00:01<00:00, 10.51it/s]\n"
     ]
    },
    {
     "name": "stdout",
     "output_type": "stream",
     "text": [
      "Epoch 34: Train Loss=0.6191, Train F1=0.7187, Val Loss=0.6771, Val F1=0.6416\n"
     ]
    },
    {
     "name": "stderr",
     "output_type": "stream",
     "text": [
      "Epoch 35 [Train]: 100%|██████████| 46/46 [00:22<00:00,  2.05it/s]\n",
      "Epoch 35 [Val]: 100%|██████████| 12/12 [00:01<00:00, 11.03it/s]\n"
     ]
    },
    {
     "name": "stdout",
     "output_type": "stream",
     "text": [
      "Epoch 35: Train Loss=0.5787, Train F1=0.7263, Val Loss=0.7881, Val F1=0.4534\n"
     ]
    },
    {
     "name": "stderr",
     "output_type": "stream",
     "text": [
      "Epoch 36 [Train]: 100%|██████████| 46/46 [00:22<00:00,  2.02it/s]\n",
      "Epoch 36 [Val]: 100%|██████████| 12/12 [00:01<00:00, 10.31it/s]\n"
     ]
    },
    {
     "name": "stdout",
     "output_type": "stream",
     "text": [
      "Epoch 36: Train Loss=0.5976, Train F1=0.7106, Val Loss=0.7733, Val F1=0.6582\n"
     ]
    },
    {
     "name": "stderr",
     "output_type": "stream",
     "text": [
      "Epoch 37 [Train]: 100%|██████████| 46/46 [00:22<00:00,  2.07it/s]\n",
      "Epoch 37 [Val]: 100%|██████████| 12/12 [00:01<00:00, 10.67it/s]\n"
     ]
    },
    {
     "name": "stdout",
     "output_type": "stream",
     "text": [
      "Epoch 37: Train Loss=0.6174, Train F1=0.6976, Val Loss=0.9298, Val F1=0.6047\n"
     ]
    },
    {
     "name": "stderr",
     "output_type": "stream",
     "text": [
      "Epoch 38 [Train]: 100%|██████████| 46/46 [00:22<00:00,  2.01it/s]\n",
      "Epoch 38 [Val]: 100%|██████████| 12/12 [00:01<00:00, 10.57it/s]\n"
     ]
    },
    {
     "name": "stdout",
     "output_type": "stream",
     "text": [
      "Epoch 38: Train Loss=0.6133, Train F1=0.6685, Val Loss=0.6572, Val F1=0.6836\n"
     ]
    },
    {
     "name": "stderr",
     "output_type": "stream",
     "text": [
      "Epoch 39 [Train]: 100%|██████████| 46/46 [00:22<00:00,  2.05it/s]\n",
      "Epoch 39 [Val]: 100%|██████████| 12/12 [00:01<00:00, 11.06it/s]\n"
     ]
    },
    {
     "name": "stdout",
     "output_type": "stream",
     "text": [
      "Epoch 39: Train Loss=0.6109, Train F1=0.6701, Val Loss=0.9710, Val F1=0.4522\n"
     ]
    },
    {
     "name": "stderr",
     "output_type": "stream",
     "text": [
      "Epoch 40 [Train]: 100%|██████████| 46/46 [00:23<00:00,  1.99it/s]\n",
      "Epoch 40 [Val]: 100%|██████████| 12/12 [00:01<00:00,  8.10it/s]\n"
     ]
    },
    {
     "name": "stdout",
     "output_type": "stream",
     "text": [
      "Epoch 40: Train Loss=0.6029, Train F1=0.6996, Val Loss=0.7487, Val F1=0.6618\n"
     ]
    },
    {
     "name": "stderr",
     "output_type": "stream",
     "text": [
      "Epoch 41 [Train]: 100%|██████████| 46/46 [00:23<00:00,  1.95it/s]\n",
      "Epoch 41 [Val]: 100%|██████████| 12/12 [00:01<00:00, 10.90it/s]\n"
     ]
    },
    {
     "name": "stdout",
     "output_type": "stream",
     "text": [
      "Epoch 41: Train Loss=0.5812, Train F1=0.7094, Val Loss=0.6619, Val F1=0.7238\n",
      "✅ Best model saved with Val F1=0.7238\n"
     ]
    },
    {
     "name": "stderr",
     "output_type": "stream",
     "text": [
      "Epoch 42 [Train]: 100%|██████████| 46/46 [00:22<00:00,  2.06it/s]\n",
      "Epoch 42 [Val]: 100%|██████████| 12/12 [00:01<00:00, 10.63it/s]\n"
     ]
    },
    {
     "name": "stdout",
     "output_type": "stream",
     "text": [
      "Epoch 42: Train Loss=0.5923, Train F1=0.6959, Val Loss=2.4631, Val F1=0.2349\n"
     ]
    },
    {
     "name": "stderr",
     "output_type": "stream",
     "text": [
      "Epoch 43 [Train]: 100%|██████████| 46/46 [00:22<00:00,  2.07it/s]\n",
      "Epoch 43 [Val]: 100%|██████████| 12/12 [00:01<00:00, 10.53it/s]\n"
     ]
    },
    {
     "name": "stdout",
     "output_type": "stream",
     "text": [
      "Epoch 43: Train Loss=0.5832, Train F1=0.6896, Val Loss=0.8209, Val F1=0.5934\n"
     ]
    },
    {
     "name": "stderr",
     "output_type": "stream",
     "text": [
      "Epoch 44 [Train]: 100%|██████████| 46/46 [00:22<00:00,  2.03it/s]\n",
      "Epoch 44 [Val]: 100%|██████████| 12/12 [00:01<00:00, 10.75it/s]\n"
     ]
    },
    {
     "name": "stdout",
     "output_type": "stream",
     "text": [
      "Epoch 44: Train Loss=0.5739, Train F1=0.7218, Val Loss=0.6040, Val F1=0.6757\n"
     ]
    },
    {
     "name": "stderr",
     "output_type": "stream",
     "text": [
      "Epoch 45 [Train]: 100%|██████████| 46/46 [00:22<00:00,  2.04it/s]\n",
      "Epoch 45 [Val]: 100%|██████████| 12/12 [00:01<00:00,  9.71it/s]\n"
     ]
    },
    {
     "name": "stdout",
     "output_type": "stream",
     "text": [
      "Epoch 45: Train Loss=0.5656, Train F1=0.7183, Val Loss=0.7650, Val F1=0.5983\n"
     ]
    },
    {
     "name": "stderr",
     "output_type": "stream",
     "text": [
      "Epoch 46 [Train]: 100%|██████████| 46/46 [00:22<00:00,  2.02it/s]\n",
      "Epoch 46 [Val]: 100%|██████████| 12/12 [00:01<00:00, 10.52it/s]\n"
     ]
    },
    {
     "name": "stdout",
     "output_type": "stream",
     "text": [
      "Epoch 46: Train Loss=0.5573, Train F1=0.7302, Val Loss=0.5981, Val F1=0.7462\n",
      "✅ Best model saved with Val F1=0.7462\n"
     ]
    },
    {
     "name": "stderr",
     "output_type": "stream",
     "text": [
      "Epoch 47 [Train]: 100%|██████████| 46/46 [00:22<00:00,  2.05it/s]\n",
      "Epoch 47 [Val]: 100%|██████████| 12/12 [00:01<00:00, 10.91it/s]\n"
     ]
    },
    {
     "name": "stdout",
     "output_type": "stream",
     "text": [
      "Epoch 47: Train Loss=0.5750, Train F1=0.7124, Val Loss=0.6287, Val F1=0.6056\n"
     ]
    },
    {
     "name": "stderr",
     "output_type": "stream",
     "text": [
      "Epoch 48 [Train]: 100%|██████████| 46/46 [00:22<00:00,  2.08it/s]\n",
      "Epoch 48 [Val]: 100%|██████████| 12/12 [00:01<00:00, 10.42it/s]\n"
     ]
    },
    {
     "name": "stdout",
     "output_type": "stream",
     "text": [
      "Epoch 48: Train Loss=0.5717, Train F1=0.6884, Val Loss=0.7547, Val F1=0.6256\n"
     ]
    },
    {
     "name": "stderr",
     "output_type": "stream",
     "text": [
      "Epoch 49 [Train]: 100%|██████████| 46/46 [00:22<00:00,  2.06it/s]\n",
      "Epoch 49 [Val]: 100%|██████████| 12/12 [00:01<00:00, 10.58it/s]\n"
     ]
    },
    {
     "name": "stdout",
     "output_type": "stream",
     "text": [
      "Epoch 49: Train Loss=0.5648, Train F1=0.7187, Val Loss=0.7337, Val F1=0.4861\n"
     ]
    },
    {
     "name": "stderr",
     "output_type": "stream",
     "text": [
      "Epoch 50 [Train]: 100%|██████████| 46/46 [00:22<00:00,  2.08it/s]\n",
      "Epoch 50 [Val]: 100%|██████████| 12/12 [00:01<00:00, 11.21it/s]"
     ]
    },
    {
     "name": "stdout",
     "output_type": "stream",
     "text": [
      "Epoch 50: Train Loss=0.5512, Train F1=0.7092, Val Loss=0.5743, Val F1=0.7134\n"
     ]
    },
    {
     "name": "stderr",
     "output_type": "stream",
     "text": [
      "\n"
     ]
    }
   ],
   "source": [
    "# --- Training Loop ---\n",
    "# Initialize lists to store F1 scores\n",
    "train_f1_scores = []\n",
    "val_f1_scores = []\n",
    "train_losses = []\n",
    "val_losses = []\n",
    "\n",
    "best_val_f1 = 0.0  # To track the best validation F1 score\n",
    "best_model_path = os.path.join(OUT_DIR, 'best_model.pth')\n",
    "\n",
    "for epoch in range(NUM_EPOCHS):\n",
    "    model.train()\n",
    "    train_loss = 0\n",
    "    train_preds, train_labels = [], []\n",
    "\n",
    "    for images, labels in tqdm(train_loader, desc=f\"Epoch {epoch+1} [Train]\"):\n",
    "        images, labels = images.to(DEVICE), labels.to(DEVICE)\n",
    "        optimizer.zero_grad()\n",
    "        outputs = model(images)\n",
    "        loss = criterion(outputs, labels)\n",
    "        loss.backward()\n",
    "        optimizer.step()\n",
    "\n",
    "        train_loss += loss.item()\n",
    "        train_preds.extend(outputs.argmax(dim=1).cpu().numpy())\n",
    "        train_labels.extend(labels.cpu().numpy())\n",
    "\n",
    "    train_f1 = f1_score(train_labels, train_preds, average='macro')\n",
    "    train_f1_scores.append(train_f1)\n",
    "    train_losses.append(train_loss / len(train_loader))  # Average train loss\n",
    "\n",
    "    # --- Validation ---\n",
    "    model.eval()\n",
    "    val_loss = 0\n",
    "    val_preds, val_labels = [], []\n",
    "    with torch.no_grad():\n",
    "        for images, labels in tqdm(val_loader, desc=f\"Epoch {epoch+1} [Val]\"):\n",
    "            images, labels = images.to(DEVICE), labels.to(DEVICE)\n",
    "            outputs = model(images)\n",
    "            loss = criterion(outputs, labels)\n",
    "            val_loss += loss.item()\n",
    "            val_preds.extend(outputs.argmax(dim=1).cpu().numpy())\n",
    "            val_labels.extend(labels.cpu().numpy())\n",
    "\n",
    "    val_f1 = f1_score(val_labels, val_preds, average='macro')\n",
    "    val_f1_scores.append(val_f1)\n",
    "    val_losses.append(val_loss / len(val_loader))  # Average validation loss\n",
    "\n",
    "    print(f\"Epoch {epoch+1}: Train Loss={train_losses[-1]:.4f}, Train F1={train_f1:.4f}, Val Loss={val_losses[-1]:.4f}, Val F1={val_f1:.4f}\")\n",
    "\n",
    "    # Save the best model\n",
    "    if val_f1 > best_val_f1:\n",
    "        best_val_f1 = val_f1\n",
    "        torch.save(model.state_dict(), best_model_path)\n",
    "        print(f\"✅ Best model saved with Val F1={best_val_f1:.4f}\")\n",
    "\n",
    "    # Save checkpoint for each epoch if enabled\n",
    "    if SAVE_CHECKPOINT and (epoch + 1) % 5 == 0:\n",
    "        checkpoint_path = os.path.join(OUT_DIR, f\"model_epoch_{epoch+1}.pth\")\n",
    "        torch.save(model.state_dict(), checkpoint_path)"
   ]
  },
  {
   "cell_type": "code",
   "execution_count": 9,
   "metadata": {
    "execution": {
     "iopub.execute_input": "2025-04-05T00:46:22.622485Z",
     "iopub.status.busy": "2025-04-05T00:46:22.622179Z",
     "iopub.status.idle": "2025-04-05T00:46:22.906052Z",
     "shell.execute_reply": "2025-04-05T00:46:22.905147Z",
     "shell.execute_reply.started": "2025-04-05T00:46:22.622465Z"
    },
    "trusted": true
   },
   "outputs": [
    {
     "name": "stderr",
     "output_type": "stream",
     "text": [
      "<ipython-input-9-0ce50f4d367e>:10: FutureWarning: You are using `torch.load` with `weights_only=False` (the current default value), which uses the default pickle module implicitly. It is possible to construct malicious pickle data which will execute arbitrary code during unpickling (See https://github.com/pytorch/pytorch/blob/main/SECURITY.md#untrusted-models for more details). In a future release, the default value for `weights_only` will be flipped to `True`. This limits the functions that could be executed during unpickling. Arbitrary objects will no longer be allowed to be loaded via this mode unless they are explicitly allowlisted by the user via `torch.serialization.add_safe_globals`. We recommend you start setting `weights_only=True` for any use case where you don't have full control of the loaded file. Please open an issue on GitHub for any issues related to this experimental feature.\n",
      "  model.load_state_dict(torch.load(best_model_path))\n"
     ]
    }
   ],
   "source": [
    "# load best model\n",
    "model = models.resnet18(pretrained=True)\n",
    "model.fc = nn.Sequential(\n",
    "    nn.Linear(model.fc.in_features, 256),\n",
    "    nn.ReLU(),\n",
    "    nn.Dropout(0.3),\n",
    "    nn.Linear(256, 3)\n",
    ")\n",
    "best_model_path = os.path.join(OUT_DIR, 'best_model.pth')\n",
    "model.load_state_dict(torch.load(best_model_path))\n",
    "model = model.to(DEVICE)"
   ]
  },
  {
   "cell_type": "code",
   "execution_count": 10,
   "metadata": {
    "execution": {
     "iopub.execute_input": "2025-04-05T00:46:24.404572Z",
     "iopub.status.busy": "2025-04-05T00:46:24.404178Z",
     "iopub.status.idle": "2025-04-05T00:46:25.147726Z",
     "shell.execute_reply": "2025-04-05T00:46:25.146747Z",
     "shell.execute_reply.started": "2025-04-05T00:46:24.404538Z"
    },
    "trusted": true
   },
   "outputs": [
    {
     "data": {
      "image/png": "[encoded data removed]",
      "text/plain": [
       "<Figure size 1000x600 with 1 Axes>"
      ]
     },
     "metadata": {},
     "output_type": "display_data"
    },
    {
     "name": "stdout",
     "output_type": "stream",
     "text": [
      "✅ F1 score plot saved at ./results/f1_scores_plot.png\n"
     ]
    },
    {
     "data": {
      "image/png": "[encoded data removed]",
      "text/plain": [
       "<Figure size 1000x600 with 1 Axes>"
      ]
     },
     "metadata": {},
     "output_type": "display_data"
    },
    {
     "name": "stdout",
     "output_type": "stream",
     "text": [
      "✅ Loss plot saved at ./results/losses_plot.png\n"
     ]
    }
   ],
   "source": [
    "# --- Plot F1 Scores ---\n",
    "plt.figure(figsize=(10, 6))\n",
    "plt.plot(range(1, NUM_EPOCHS + 1), train_f1_scores, label='Train F1', marker='o')\n",
    "plt.plot(range(1, NUM_EPOCHS + 1), val_f1_scores, label='Validation F1', marker='o')\n",
    "plt.xlabel('Epoch')\n",
    "plt.ylabel('F1 Score')\n",
    "plt.title('F1 Score Over Epochs')\n",
    "plt.legend()\n",
    "plt.grid(True)\n",
    "plot_path = os.path.join(OUT_DIR, 'f1_scores_plot.png')\n",
    "plt.savefig(plot_path)\n",
    "plt.show()\n",
    "print(f\"✅ F1 score plot saved at {plot_path}\")\n",
    "\n",
    "# --- Plot Losses ---\n",
    "plt.figure(figsize=(10, 6))\n",
    "plt.plot(range(1, NUM_EPOCHS + 1), train_losses, label='Train Loss', marker='o')\n",
    "plt.plot(range(1, NUM_EPOCHS + 1), val_losses, label='Validation Loss', marker='o')\n",
    "plt.xlabel('Epoch')\n",
    "plt.ylabel('Loss')\n",
    "plt.title('Loss Over Epochs')\n",
    "plt.legend()\n",
    "plt.grid(True)\n",
    "plot_path = os.path.join(OUT_DIR, 'losses_plot.png')\n",
    "plt.savefig(plot_path)\n",
    "plt.show()\n",
    "print(f\"✅ Loss plot saved at {plot_path}\")"
   ]
  },
  {
   "cell_type": "code",
   "execution_count": 11,
   "metadata": {
    "execution": {
     "iopub.execute_input": "2025-04-05T00:47:04.944839Z",
     "iopub.status.busy": "2025-04-05T00:47:04.944516Z",
     "iopub.status.idle": "2025-04-05T00:47:09.382156Z",
     "shell.execute_reply": "2025-04-05T00:47:09.381247Z",
     "shell.execute_reply.started": "2025-04-05T00:47:04.944811Z"
    },
    "trusted": true
   },
   "outputs": [
    {
     "name": "stderr",
     "output_type": "stream",
     "text": [
      "Predicting: 100%|██████████| 26/26 [00:04<00:00,  5.89it/s]"
     ]
    },
    {
     "name": "stdout",
     "output_type": "stream",
     "text": [
      "Submission saved to ./results/test.csv\n",
      "     id  GalaxyType\n",
      "133   1           2\n",
      "398   2           2\n",
      "348   3           2\n",
      "336   4           2\n",
      "35    5           2\n"
     ]
    },
    {
     "name": "stderr",
     "output_type": "stream",
     "text": [
      "\n"
     ]
    }
   ],
   "source": [
    "# --- Test Prediction ---\n",
    "model.eval()\n",
    "predictions = []\n",
    "asset_ids = []\n",
    "\n",
    "with torch.no_grad():\n",
    "    for images, ids in tqdm(test_loader, desc=\"Predicting\"):\n",
    "        images = images.to(DEVICE)\n",
    "        outputs = model(images)\n",
    "        preds = outputs.argmax(dim=1).cpu().numpy()\n",
    "        predictions.extend(preds)\n",
    "        asset_ids.extend(ids.cpu().numpy())  # Convert tensor to numpy array and extend\n",
    "\n",
    "# --- Save Submission ---\n",
    "submission_df = pd.DataFrame({'id': asset_ids, 'GalaxyType': predictions})\n",
    "submission_df.sort_values('id', inplace=True)\n",
    "submission_df.to_csv(OUT_TEST_CSV, index=False)\n",
    "print(f\"Submission saved to {OUT_TEST_CSV}\")\n",
    "print(submission_df.head())\n"
   ]
  },
  {
   "cell_type": "code",
   "execution_count": null,
   "metadata": {
    "trusted": true
   },
   "outputs": [],
   "source": []
  }
 ],
 "metadata": {
  "kaggle": {
   "accelerator": "gpu",
   "dataSources": [
    {
     "databundleVersionId": 11696610,
     "sourceId": 98105,
     "sourceType": "competition"
    }
   ],
   "dockerImageVersionId": 30919,
   "isGpuEnabled": true,
   "isInternetEnabled": true,
   "language": "python",
   "sourceType": "notebook"
  },
  "kernelspec": {
   "display_name": "Python 3",
   "language": "python",
   "name": "python3"
  },
  "language_info": {
   "codemirror_mode": {
    "name": "ipython",
    "version": 3
   },
   "file_extension": ".py",
   "mimetype": "text/x-python",
   "name": "python",
   "nbconvert_exporter": "python",
   "pygments_lexer": "ipython3",
   "version": "3.10.12"
  }
 },
 "nbformat": 4,
 "nbformat_minor": 4
}

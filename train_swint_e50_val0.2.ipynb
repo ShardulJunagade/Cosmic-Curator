{
 "cells": [
  {
   "cell_type": "code",
   "execution_count": 1,
   "metadata": {
    "_cell_guid": "b1076dfc-b9ad-4769-8c92-a6c4dae69d19",
    "_uuid": "8f2839f25d086af736a60e9eeb907d3b93b6e0e5",
    "execution": {
     "iopub.execute_input": "2025-04-05T21:22:03.057826Z",
     "iopub.status.busy": "2025-04-05T21:22:03.057531Z",
     "iopub.status.idle": "2025-04-05T21:22:10.093389Z",
     "shell.execute_reply": "2025-04-05T21:22:10.092480Z",
     "shell.execute_reply.started": "2025-04-05T21:22:03.057797Z"
    },
    "trusted": true
   },
   "outputs": [
    {
     "name": "stdout",
     "output_type": "stream",
     "text": [
      "Using device: cuda\n"
     ]
    }
   ],
   "source": [
    "import os\n",
    "import numpy as np\n",
    "import pandas as pd\n",
    "import matplotlib.pyplot as plt\n",
    "from PIL import Image\n",
    "import torch\n",
    "import torch.nn as nn\n",
    "import torchvision.transforms as transforms\n",
    "from torchvision import models\n",
    "from torch.utils.data import Dataset, DataLoader, Subset\n",
    "from sklearn.metrics import f1_score\n",
    "from sklearn.model_selection import StratifiedShuffleSplit, train_test_split\n",
    "from tqdm import tqdm\n",
    "\n",
    "device = torch.device(\"cuda\" if torch.cuda.is_available() else \"cpu\")\n",
    "print(\"Using device:\", device)\n",
    "\n",
    "\n",
    "def set_all_seed(seed=42):\n",
    "    torch.manual_seed(seed)\n",
    "    if torch.cuda.is_available():\n",
    "        torch.cuda.manual_seed_all(seed)\n",
    "    np.random.seed(seed)\n",
    "seed = 0\n",
    "set_all_seed(seed=seed)"
   ]
  },
  {
   "cell_type": "code",
   "execution_count": 5,
   "metadata": {
    "execution": {
     "iopub.execute_input": "2025-04-05T21:23:02.756345Z",
     "iopub.status.busy": "2025-04-05T21:23:02.756032Z",
     "iopub.status.idle": "2025-04-05T21:23:02.762437Z",
     "shell.execute_reply": "2025-04-05T21:23:02.761543Z",
     "shell.execute_reply.started": "2025-04-05T21:23:02.756323Z"
    },
    "trusted": true
   },
   "outputs": [],
   "source": [
    "# Paths\n",
    "# TRAIN_DIR = './cosmic-curator/train_images'\n",
    "# TEST_DIR = './cosmic-curator/test_images'\n",
    "# TRAIN_CSV = './cosmic-curator/train2.csv'\n",
    "\n",
    "TRAIN_DIR = '/kaggle/input/cosmic-curator/train_images_updated/train_images_updated'\n",
    "TEST_DIR = '/kaggle/input/cosmic-curator/test_images/test_images'\n",
    "TRAIN_CSV = '/kaggle/input/cosmic-curator/train_images_updated.csv'\n",
    "OUT_DIR = './results'\n",
    "if os.path.exists(OUT_DIR):\n",
    "    import shutil\n",
    "    shutil.rmtree(OUT_DIR)\n",
    "# create directory\n",
    "os.makedirs(OUT_DIR, exist_ok=True)\n",
    "OUT_TRAIN_CSV = os.path.join(OUT_DIR, 'train.csv')\n",
    "OUT_TEST_CSV = os.path.join(OUT_DIR, 'test.csv')\n",
    "DEVICE = torch.device(\"cuda\" if torch.cuda.is_available() else \"cpu\")\n",
    "\n",
    "# Parameters\n",
    "BATCH_SIZE = 32\n",
    "# BATCH_SIZE = 16\n",
    "NUM_CLASSES = 3\n",
    "NUM_EPOCHS = 50\n",
    "LEARNING_RATE = 3e-5\n",
    "IMG_SIZE = 424\n",
    "VAL_SPLIT = 0.2\n",
    "SAVE_CHECKPOINT = True"
   ]
  },
  {
   "cell_type": "code",
   "execution_count": null,
   "metadata": {
    "execution": {
     "iopub.execute_input": "2025-04-05T21:23:05.187139Z",
     "iopub.status.busy": "2025-04-05T21:23:05.186707Z",
     "iopub.status.idle": "2025-04-05T21:23:05.199333Z",
     "shell.execute_reply": "2025-04-05T21:23:05.198090Z",
     "shell.execute_reply.started": "2025-04-05T21:23:05.187099Z"
    },
    "trusted": true
   },
   "outputs": [],
   "source": [
    "# --- Custom Dataset ---\n",
    "class GalaxyDataset(Dataset):\n",
    "    def __init__(self, df, img_dir, transform=None, is_test=False):\n",
    "        self.df = df.reset_index(drop=True)\n",
    "        self.img_dir = img_dir\n",
    "        self.transform = transform\n",
    "        self.is_test = is_test\n",
    "\n",
    "    def __len__(self):\n",
    "        return len(self.df)\n",
    "\n",
    "    def __getitem__(self, idx):\n",
    "        asset_id = self.df.loc[idx, 'asset_id']\n",
    "        img_path = os.path.join(self.img_dir, f\"{asset_id}.jpg\")\n",
    "        image = Image.open(img_path).convert(\"RGB\")\n",
    "\n",
    "        if self.transform:\n",
    "            image = self.transform(image)\n",
    "\n",
    "        if self.is_test:\n",
    "            return image, asset_id\n",
    "        else:\n",
    "            label = int(self.df.loc[idx, 'GalaxyType'])\n",
    "            return image, label\n",
    "\n",
    "# # --- Transforms ---\n",
    "# # Resnet Transforms\n",
    "# train_transform = transforms.Compose([\n",
    "#     transforms.Resize((IMG_SIZE, IMG_SIZE)),\n",
    "#     transforms.RandomHorizontalFlip(),\n",
    "#     transforms.RandomRotation(30),\n",
    "#     transforms.ColorJitter(brightness=0.2, contrast=0.2, saturation=0.2, hue=0.1),\n",
    "#     transforms.RandomResizedCrop(IMG_SIZE, scale=(0.8, 1.0)),\n",
    "#     transforms.ToTensor(),\n",
    "#     transforms.Normalize([0.485, 0.456, 0.406],\n",
    "#                          [0.229, 0.224, 0.225])\n",
    "# ])\n",
    "\n",
    "# test_transform = transforms.Compose([\n",
    "#     transforms.Resize((IMG_SIZE, IMG_SIZE)),\n",
    "#     transforms.ToTensor(),\n",
    "#     transforms.Normalize([0.485, 0.456, 0.406],\n",
    "#                          [0.229, 0.224, 0.225])\n",
    "# ])\n",
    "\n",
    "# # SwinT Transforms\n",
    "weights = models.Swin_T_Weights.DEFAULT\n",
    "train_transform = transforms.Compose([\n",
    "    transforms.Resize((IMG_SIZE, IMG_SIZE)),\n",
    "    transforms.RandomHorizontalFlip(),\n",
    "    transforms.RandomRotation(20),\n",
    "    transforms.ToTensor(),\n",
    "    transforms.Normalize(mean=[0.5, 0.5, 0.5],\n",
    "                         std=[0.5, 0.5, 0.5])\n",
    "])\n",
    "\n",
    "test_transform = transforms.Compose([\n",
    "    transforms.Resize((IMG_SIZE, IMG_SIZE)),\n",
    "    transforms.ToTensor(),\n",
    "    transforms.Normalize(mean=[0.5, 0.5, 0.5],\n",
    "                         std=[0.5, 0.5, 0.5])\n",
    "])"
   ]
  },
  {
   "cell_type": "code",
   "execution_count": 7,
   "metadata": {
    "execution": {
     "iopub.execute_input": "2025-04-05T21:23:08.060250Z",
     "iopub.status.busy": "2025-04-05T21:23:08.059922Z",
     "iopub.status.idle": "2025-04-05T21:23:08.083381Z",
     "shell.execute_reply": "2025-04-05T21:23:08.082694Z",
     "shell.execute_reply.started": "2025-04-05T21:23:08.060227Z"
    },
    "trusted": true
   },
   "outputs": [
    {
     "name": "stdout",
     "output_type": "stream",
     "text": [
      "Images in train set: 5994\n",
      "Images in test set: 412\n",
      "After splitting into train and val sets:\n",
      "Train size: 4795\n",
      "Val size: 1199\n",
      "Test size: 412\n"
     ]
    }
   ],
   "source": [
    "# --- Load CSV ---\n",
    "train_df = pd.read_csv(TRAIN_CSV)\n",
    "print(\"Images in train set:\", len(train_df))\n",
    "# delete the images that are not in the train set\n",
    "train_img_asset_ids = [int(f.split('.')[0]) for f in os.listdir(TRAIN_DIR) if f.endswith('.jpg')]\n",
    "train_df = train_df[train_df['asset_id'].isin(train_img_asset_ids)]\n",
    "train_df = train_df.reset_index(drop=True)\n",
    "\n",
    "test_asset_ids = [int(f.split('.')[0]) for f in os.listdir(TEST_DIR) if f.endswith('.jpg')]\n",
    "test_df = pd.DataFrame({'asset_id': test_asset_ids})\n",
    "print(\"Images in test set:\", len(test_df))\n",
    "\n",
    "\n",
    "# --- Train/Val Split ---\n",
    "train_df, val_df = train_test_split(train_df, test_size=VAL_SPLIT, stratify=train_df['GalaxyType'], random_state=seed)\n",
    "train_df = train_df.reset_index(drop=True)\n",
    "val_df = val_df.reset_index(drop=True)\n",
    "print(\"After splitting into train and val sets:\")\n",
    "print(\"Train size:\", len(train_df))\n",
    "print(\"Val size:\", len(val_df))\n",
    "print(\"Test size:\", len(test_df))"
   ]
  },
  {
   "cell_type": "code",
   "execution_count": 8,
   "metadata": {
    "execution": {
     "iopub.execute_input": "2025-04-05T21:23:08.995623Z",
     "iopub.status.busy": "2025-04-05T21:23:08.995330Z",
     "iopub.status.idle": "2025-04-05T21:23:09.005391Z",
     "shell.execute_reply": "2025-04-05T21:23:09.004247Z",
     "shell.execute_reply.started": "2025-04-05T21:23:08.995601Z"
    },
    "trusted": true
   },
   "outputs": [
    {
     "name": "stdout",
     "output_type": "stream",
     "text": [
      "Train class counts:\n",
      "GalaxyType\n",
      "2    2624\n",
      "0    1455\n",
      "1     716\n",
      "Name: count, dtype: int64\n",
      "Val class counts:\n",
      "GalaxyType\n",
      "2    656\n",
      "0    364\n",
      "1    179\n",
      "Name: count, dtype: int64\n"
     ]
    }
   ],
   "source": [
    "# class counts\n",
    "print(\"Train class counts:\")\n",
    "print(train_df['GalaxyType'].value_counts())\n",
    "print(\"Val class counts:\")\n",
    "print(val_df['GalaxyType'].value_counts())"
   ]
  },
  {
   "cell_type": "code",
   "execution_count": 9,
   "metadata": {
    "execution": {
     "iopub.execute_input": "2025-04-05T21:23:09.690051Z",
     "iopub.status.busy": "2025-04-05T21:23:09.689742Z",
     "iopub.status.idle": "2025-04-05T21:23:09.699036Z",
     "shell.execute_reply": "2025-04-05T21:23:09.698205Z",
     "shell.execute_reply.started": "2025-04-05T21:23:09.690028Z"
    },
    "trusted": true
   },
   "outputs": [
    {
     "name": "stdout",
     "output_type": "stream",
     "text": [
      "Train dataset size: 4795\n",
      "Validation dataset size: 1199\n",
      "Test dataset size: 412\n",
      "Train loader size: 150\n",
      "Validation loader size: 38\n",
      "Test loader size: 13\n"
     ]
    }
   ],
   "source": [
    "train_dataset = GalaxyDataset(train_df, TRAIN_DIR, transform=train_transform)\n",
    "val_dataset = GalaxyDataset(val_df, TRAIN_DIR, transform=test_transform)\n",
    "test_dataset = GalaxyDataset(test_df, TEST_DIR, transform=test_transform, is_test=True)\n",
    "print(\"Train dataset size:\", len(train_dataset))\n",
    "print(\"Validation dataset size:\", len(val_dataset)) \n",
    "print(\"Test dataset size:\", len(test_dataset))\n",
    "\n",
    "train_loader = DataLoader(train_dataset, batch_size=BATCH_SIZE, shuffle=True)\n",
    "val_loader = DataLoader(val_dataset, batch_size=BATCH_SIZE, shuffle=False)\n",
    "test_loader = DataLoader(test_dataset, batch_size=BATCH_SIZE, shuffle=False)\n",
    "\n",
    "print(\"Train loader size:\", len(train_loader))\n",
    "print(\"Validation loader size:\", len(val_loader))\n",
    "print(\"Test loader size:\", len(test_loader))"
   ]
  },
  {
   "cell_type": "code",
   "execution_count": 10,
   "metadata": {
    "execution": {
     "iopub.execute_input": "2025-04-05T21:23:12.103975Z",
     "iopub.status.busy": "2025-04-05T21:23:12.103656Z",
     "iopub.status.idle": "2025-04-05T21:23:14.380147Z",
     "shell.execute_reply": "2025-04-05T21:23:14.379292Z",
     "shell.execute_reply.started": "2025-04-05T21:23:12.103917Z"
    },
    "trusted": true
   },
   "outputs": [
    {
     "name": "stderr",
     "output_type": "stream",
     "text": [
      "Downloading: \"https://download.pytorch.org/models/swin_t-704ceda3.pth\" to /root/.cache/torch/hub/checkpoints/swin_t-704ceda3.pth\n",
      "100%|██████████| 108M/108M [00:01<00:00, 92.4MB/s] \n"
     ]
    }
   ],
   "source": [
    "# --- Model ---\n",
    "# # model = models.resnet18(pretrained=True)\n",
    "# model.fc = nn.Sequential(\n",
    "#     nn.Linear(model.fc.in_features, 256),\n",
    "#     nn.ReLU(),\n",
    "#     nn.Dropout(0.3),\n",
    "#     nn.Linear(256, 3)\n",
    "# )\n",
    "\n",
    "weights = models.Swin_T_Weights.DEFAULT\n",
    "model = models.swin_t(weights=weights)\n",
    "model.head = nn.Sequential(\n",
    "    nn.Linear(model.head.in_features, 256),\n",
    "    nn.ReLU(),\n",
    "    nn.Dropout(0.3),\n",
    "    nn.Linear(256, NUM_CLASSES)\n",
    ")\n",
    "\n",
    "model = model.to(DEVICE)\n",
    "\n",
    "criterion = nn.CrossEntropyLoss()\n",
    "optimizer = torch.optim.AdamW(model.parameters(), lr=LEARNING_RATE, weight_decay=0.01)"
   ]
  },
  {
   "cell_type": "code",
   "execution_count": 11,
   "metadata": {
    "execution": {
     "iopub.execute_input": "2025-04-05T21:23:17.492330Z",
     "iopub.status.busy": "2025-04-05T21:23:17.492017Z",
     "iopub.status.idle": "2025-04-06T00:01:48.021889Z",
     "shell.execute_reply": "2025-04-06T00:01:48.021008Z",
     "shell.execute_reply.started": "2025-04-05T21:23:17.492305Z"
    },
    "trusted": true
   },
   "outputs": [
    {
     "name": "stderr",
     "output_type": "stream",
     "text": [
      "Epoch 1 [Train]: 100%|██████████| 150/150 [03:21<00:00,  1.35s/it]\n",
      "Epoch 1 [Val]: 100%|██████████| 38/38 [00:26<00:00,  1.43it/s]\n"
     ]
    },
    {
     "name": "stdout",
     "output_type": "stream",
     "text": [
      "Epoch 1: Train Loss=0.7456, Train F1=0.5791, Val Loss=0.6184, Val F1=0.6841\n",
      "✅ Best model saved with Val F1=0.6841\n"
     ]
    },
    {
     "name": "stderr",
     "output_type": "stream",
     "text": [
      "Epoch 2 [Train]: 100%|██████████| 150/150 [02:52<00:00,  1.15s/it]\n",
      "Epoch 2 [Val]: 100%|██████████| 38/38 [00:18<00:00,  2.08it/s]\n"
     ]
    },
    {
     "name": "stdout",
     "output_type": "stream",
     "text": [
      "Epoch 2: Train Loss=0.5960, Train F1=0.6913, Val Loss=0.5800, Val F1=0.6567\n"
     ]
    },
    {
     "name": "stderr",
     "output_type": "stream",
     "text": [
      "Epoch 3 [Train]: 100%|██████████| 150/150 [02:52<00:00,  1.15s/it]\n",
      "Epoch 3 [Val]: 100%|██████████| 38/38 [00:18<00:00,  2.08it/s]\n"
     ]
    },
    {
     "name": "stdout",
     "output_type": "stream",
     "text": [
      "Epoch 3: Train Loss=0.5553, Train F1=0.7295, Val Loss=0.5708, Val F1=0.7170\n",
      "✅ Best model saved with Val F1=0.7170\n"
     ]
    },
    {
     "name": "stderr",
     "output_type": "stream",
     "text": [
      "Epoch 4 [Train]: 100%|██████████| 150/150 [02:51<00:00,  1.15s/it]\n",
      "Epoch 4 [Val]: 100%|██████████| 38/38 [00:18<00:00,  2.09it/s]\n"
     ]
    },
    {
     "name": "stdout",
     "output_type": "stream",
     "text": [
      "Epoch 4: Train Loss=0.5260, Train F1=0.7398, Val Loss=0.5375, Val F1=0.7215\n",
      "✅ Best model saved with Val F1=0.7215\n"
     ]
    },
    {
     "name": "stderr",
     "output_type": "stream",
     "text": [
      "Epoch 5 [Train]: 100%|██████████| 150/150 [02:51<00:00,  1.14s/it]\n",
      "Epoch 5 [Val]: 100%|██████████| 38/38 [00:18<00:00,  2.09it/s]\n"
     ]
    },
    {
     "name": "stdout",
     "output_type": "stream",
     "text": [
      "Epoch 5: Train Loss=0.5158, Train F1=0.7386, Val Loss=0.5192, Val F1=0.7354\n",
      "✅ Best model saved with Val F1=0.7354\n"
     ]
    },
    {
     "name": "stderr",
     "output_type": "stream",
     "text": [
      "Epoch 6 [Train]: 100%|██████████| 150/150 [02:52<00:00,  1.15s/it]\n",
      "Epoch 6 [Val]: 100%|██████████| 38/38 [00:18<00:00,  2.08it/s]\n"
     ]
    },
    {
     "name": "stdout",
     "output_type": "stream",
     "text": [
      "Epoch 6: Train Loss=0.4872, Train F1=0.7606, Val Loss=0.5670, Val F1=0.7164\n"
     ]
    },
    {
     "name": "stderr",
     "output_type": "stream",
     "text": [
      "Epoch 7 [Train]: 100%|██████████| 150/150 [02:51<00:00,  1.14s/it]\n",
      "Epoch 7 [Val]: 100%|██████████| 38/38 [00:18<00:00,  2.11it/s]\n"
     ]
    },
    {
     "name": "stdout",
     "output_type": "stream",
     "text": [
      "Epoch 7: Train Loss=0.4752, Train F1=0.7687, Val Loss=0.5126, Val F1=0.7466\n",
      "✅ Best model saved with Val F1=0.7466\n"
     ]
    },
    {
     "name": "stderr",
     "output_type": "stream",
     "text": [
      "Epoch 8 [Train]: 100%|██████████| 150/150 [02:51<00:00,  1.14s/it]\n",
      "Epoch 8 [Val]: 100%|██████████| 38/38 [00:18<00:00,  2.07it/s]\n"
     ]
    },
    {
     "name": "stdout",
     "output_type": "stream",
     "text": [
      "Epoch 8: Train Loss=0.4695, Train F1=0.7735, Val Loss=0.5128, Val F1=0.7528\n",
      "✅ Best model saved with Val F1=0.7528\n"
     ]
    },
    {
     "name": "stderr",
     "output_type": "stream",
     "text": [
      "Epoch 9 [Train]: 100%|██████████| 150/150 [02:50<00:00,  1.14s/it]\n",
      "Epoch 9 [Val]: 100%|██████████| 38/38 [00:18<00:00,  2.02it/s]\n"
     ]
    },
    {
     "name": "stdout",
     "output_type": "stream",
     "text": [
      "Epoch 9: Train Loss=0.4526, Train F1=0.7748, Val Loss=0.5262, Val F1=0.7314\n"
     ]
    },
    {
     "name": "stderr",
     "output_type": "stream",
     "text": [
      "Epoch 10 [Train]: 100%|██████████| 150/150 [02:51<00:00,  1.14s/it]\n",
      "Epoch 10 [Val]: 100%|██████████| 38/38 [00:18<00:00,  2.08it/s]\n"
     ]
    },
    {
     "name": "stdout",
     "output_type": "stream",
     "text": [
      "Epoch 10: Train Loss=0.4290, Train F1=0.7859, Val Loss=0.5201, Val F1=0.7490\n"
     ]
    },
    {
     "name": "stderr",
     "output_type": "stream",
     "text": [
      "Epoch 11 [Train]: 100%|██████████| 150/150 [02:51<00:00,  1.14s/it]\n",
      "Epoch 11 [Val]: 100%|██████████| 38/38 [00:18<00:00,  2.09it/s]\n"
     ]
    },
    {
     "name": "stdout",
     "output_type": "stream",
     "text": [
      "Epoch 11: Train Loss=0.4263, Train F1=0.7885, Val Loss=0.5313, Val F1=0.7497\n"
     ]
    },
    {
     "name": "stderr",
     "output_type": "stream",
     "text": [
      "Epoch 12 [Train]: 100%|██████████| 150/150 [02:52<00:00,  1.15s/it]\n",
      "Epoch 12 [Val]: 100%|██████████| 38/38 [00:18<00:00,  2.09it/s]\n"
     ]
    },
    {
     "name": "stdout",
     "output_type": "stream",
     "text": [
      "Epoch 12: Train Loss=0.4143, Train F1=0.7994, Val Loss=0.5300, Val F1=0.7350\n"
     ]
    },
    {
     "name": "stderr",
     "output_type": "stream",
     "text": [
      "Epoch 13 [Train]: 100%|██████████| 150/150 [02:51<00:00,  1.14s/it]\n",
      "Epoch 13 [Val]: 100%|██████████| 38/38 [00:18<00:00,  2.07it/s]\n"
     ]
    },
    {
     "name": "stdout",
     "output_type": "stream",
     "text": [
      "Epoch 13: Train Loss=0.3995, Train F1=0.8128, Val Loss=0.5710, Val F1=0.7396\n"
     ]
    },
    {
     "name": "stderr",
     "output_type": "stream",
     "text": [
      "Epoch 14 [Train]: 100%|██████████| 150/150 [02:51<00:00,  1.14s/it]\n",
      "Epoch 14 [Val]: 100%|██████████| 38/38 [00:18<00:00,  2.04it/s]\n"
     ]
    },
    {
     "name": "stdout",
     "output_type": "stream",
     "text": [
      "Epoch 14: Train Loss=0.3947, Train F1=0.8136, Val Loss=0.5696, Val F1=0.7607\n",
      "✅ Best model saved with Val F1=0.7607\n"
     ]
    },
    {
     "name": "stderr",
     "output_type": "stream",
     "text": [
      "Epoch 15 [Train]: 100%|██████████| 150/150 [02:51<00:00,  1.15s/it]\n",
      "Epoch 15 [Val]: 100%|██████████| 38/38 [00:18<00:00,  2.05it/s]\n"
     ]
    },
    {
     "name": "stdout",
     "output_type": "stream",
     "text": [
      "Epoch 15: Train Loss=0.3679, Train F1=0.8228, Val Loss=0.5938, Val F1=0.7429\n"
     ]
    },
    {
     "name": "stderr",
     "output_type": "stream",
     "text": [
      "Epoch 16 [Train]: 100%|██████████| 150/150 [02:51<00:00,  1.14s/it]\n",
      "Epoch 16 [Val]: 100%|██████████| 38/38 [00:18<00:00,  2.07it/s]\n"
     ]
    },
    {
     "name": "stdout",
     "output_type": "stream",
     "text": [
      "Epoch 16: Train Loss=0.3542, Train F1=0.8384, Val Loss=0.6133, Val F1=0.7426\n"
     ]
    },
    {
     "name": "stderr",
     "output_type": "stream",
     "text": [
      "Epoch 17 [Train]: 100%|██████████| 150/150 [02:51<00:00,  1.14s/it]\n",
      "Epoch 17 [Val]: 100%|██████████| 38/38 [00:18<00:00,  2.08it/s]\n"
     ]
    },
    {
     "name": "stdout",
     "output_type": "stream",
     "text": [
      "Epoch 17: Train Loss=0.3511, Train F1=0.8311, Val Loss=0.5785, Val F1=0.7506\n"
     ]
    },
    {
     "name": "stderr",
     "output_type": "stream",
     "text": [
      "Epoch 18 [Train]: 100%|██████████| 150/150 [02:51<00:00,  1.14s/it]\n",
      "Epoch 18 [Val]: 100%|██████████| 38/38 [00:18<00:00,  2.06it/s]\n"
     ]
    },
    {
     "name": "stdout",
     "output_type": "stream",
     "text": [
      "Epoch 18: Train Loss=0.3337, Train F1=0.8473, Val Loss=0.5929, Val F1=0.7353\n"
     ]
    },
    {
     "name": "stderr",
     "output_type": "stream",
     "text": [
      "Epoch 19 [Train]: 100%|██████████| 150/150 [02:51<00:00,  1.14s/it]\n",
      "Epoch 19 [Val]: 100%|██████████| 38/38 [00:18<00:00,  2.06it/s]\n"
     ]
    },
    {
     "name": "stdout",
     "output_type": "stream",
     "text": [
      "Epoch 19: Train Loss=0.3256, Train F1=0.8445, Val Loss=0.5468, Val F1=0.7490\n"
     ]
    },
    {
     "name": "stderr",
     "output_type": "stream",
     "text": [
      "Epoch 20 [Train]: 100%|██████████| 150/150 [02:50<00:00,  1.14s/it]\n",
      "Epoch 20 [Val]: 100%|██████████| 38/38 [00:18<00:00,  2.07it/s]\n"
     ]
    },
    {
     "name": "stdout",
     "output_type": "stream",
     "text": [
      "Epoch 20: Train Loss=0.3074, Train F1=0.8605, Val Loss=0.6636, Val F1=0.7461\n"
     ]
    },
    {
     "name": "stderr",
     "output_type": "stream",
     "text": [
      "Epoch 21 [Train]: 100%|██████████| 150/150 [02:51<00:00,  1.14s/it]\n",
      "Epoch 21 [Val]: 100%|██████████| 38/38 [00:18<00:00,  2.06it/s]\n"
     ]
    },
    {
     "name": "stdout",
     "output_type": "stream",
     "text": [
      "Epoch 21: Train Loss=0.3014, Train F1=0.8616, Val Loss=0.6916, Val F1=0.7156\n"
     ]
    },
    {
     "name": "stderr",
     "output_type": "stream",
     "text": [
      "Epoch 22 [Train]: 100%|██████████| 150/150 [02:51<00:00,  1.14s/it]\n",
      "Epoch 22 [Val]: 100%|██████████| 38/38 [00:18<00:00,  2.06it/s]\n"
     ]
    },
    {
     "name": "stdout",
     "output_type": "stream",
     "text": [
      "Epoch 22: Train Loss=0.2831, Train F1=0.8680, Val Loss=0.7216, Val F1=0.7461\n"
     ]
    },
    {
     "name": "stderr",
     "output_type": "stream",
     "text": [
      "Epoch 23 [Train]: 100%|██████████| 150/150 [02:51<00:00,  1.14s/it]\n",
      "Epoch 23 [Val]: 100%|██████████| 38/38 [00:18<00:00,  2.08it/s]\n"
     ]
    },
    {
     "name": "stdout",
     "output_type": "stream",
     "text": [
      "Epoch 23: Train Loss=0.2716, Train F1=0.8782, Val Loss=0.6664, Val F1=0.7662\n",
      "✅ Best model saved with Val F1=0.7662\n"
     ]
    },
    {
     "name": "stderr",
     "output_type": "stream",
     "text": [
      "Epoch 24 [Train]: 100%|██████████| 150/150 [02:50<00:00,  1.14s/it]\n",
      "Epoch 24 [Val]: 100%|██████████| 38/38 [00:18<00:00,  2.08it/s]\n"
     ]
    },
    {
     "name": "stdout",
     "output_type": "stream",
     "text": [
      "Epoch 24: Train Loss=0.2728, Train F1=0.8716, Val Loss=0.6628, Val F1=0.7597\n"
     ]
    },
    {
     "name": "stderr",
     "output_type": "stream",
     "text": [
      "Epoch 25 [Train]: 100%|██████████| 150/150 [02:50<00:00,  1.14s/it]\n",
      "Epoch 25 [Val]: 100%|██████████| 38/38 [00:18<00:00,  2.07it/s]\n"
     ]
    },
    {
     "name": "stdout",
     "output_type": "stream",
     "text": [
      "Epoch 25: Train Loss=0.2575, Train F1=0.8832, Val Loss=0.7529, Val F1=0.7373\n"
     ]
    },
    {
     "name": "stderr",
     "output_type": "stream",
     "text": [
      "Epoch 26 [Train]: 100%|██████████| 150/150 [02:51<00:00,  1.14s/it]\n",
      "Epoch 26 [Val]: 100%|██████████| 38/38 [00:18<00:00,  2.05it/s]\n"
     ]
    },
    {
     "name": "stdout",
     "output_type": "stream",
     "text": [
      "Epoch 26: Train Loss=0.2442, Train F1=0.8868, Val Loss=0.7316, Val F1=0.7247\n"
     ]
    },
    {
     "name": "stderr",
     "output_type": "stream",
     "text": [
      "Epoch 27 [Train]: 100%|██████████| 150/150 [02:50<00:00,  1.14s/it]\n",
      "Epoch 27 [Val]: 100%|██████████| 38/38 [00:18<00:00,  2.07it/s]\n"
     ]
    },
    {
     "name": "stdout",
     "output_type": "stream",
     "text": [
      "Epoch 27: Train Loss=0.2348, Train F1=0.8939, Val Loss=0.8393, Val F1=0.7499\n"
     ]
    },
    {
     "name": "stderr",
     "output_type": "stream",
     "text": [
      "Epoch 28 [Train]: 100%|██████████| 150/150 [02:51<00:00,  1.14s/it]\n",
      "Epoch 28 [Val]: 100%|██████████| 38/38 [00:18<00:00,  2.07it/s]\n"
     ]
    },
    {
     "name": "stdout",
     "output_type": "stream",
     "text": [
      "Epoch 28: Train Loss=0.2285, Train F1=0.8934, Val Loss=0.7293, Val F1=0.7569\n"
     ]
    },
    {
     "name": "stderr",
     "output_type": "stream",
     "text": [
      "Epoch 29 [Train]: 100%|██████████| 150/150 [02:50<00:00,  1.14s/it]\n",
      "Epoch 29 [Val]: 100%|██████████| 38/38 [00:18<00:00,  2.06it/s]\n"
     ]
    },
    {
     "name": "stdout",
     "output_type": "stream",
     "text": [
      "Epoch 29: Train Loss=0.2157, Train F1=0.9020, Val Loss=0.8353, Val F1=0.7457\n"
     ]
    },
    {
     "name": "stderr",
     "output_type": "stream",
     "text": [
      "Epoch 30 [Train]: 100%|██████████| 150/150 [02:50<00:00,  1.13s/it]\n",
      "Epoch 30 [Val]: 100%|██████████| 38/38 [00:18<00:00,  2.10it/s]\n"
     ]
    },
    {
     "name": "stdout",
     "output_type": "stream",
     "text": [
      "Epoch 30: Train Loss=0.2114, Train F1=0.9068, Val Loss=0.8853, Val F1=0.7432\n"
     ]
    },
    {
     "name": "stderr",
     "output_type": "stream",
     "text": [
      "Epoch 31 [Train]: 100%|██████████| 150/150 [02:50<00:00,  1.14s/it]\n",
      "Epoch 31 [Val]: 100%|██████████| 38/38 [00:18<00:00,  2.09it/s]\n"
     ]
    },
    {
     "name": "stdout",
     "output_type": "stream",
     "text": [
      "Epoch 31: Train Loss=0.2134, Train F1=0.9078, Val Loss=0.9187, Val F1=0.7465\n"
     ]
    },
    {
     "name": "stderr",
     "output_type": "stream",
     "text": [
      "Epoch 32 [Train]: 100%|██████████| 150/150 [02:50<00:00,  1.14s/it]\n",
      "Epoch 32 [Val]: 100%|██████████| 38/38 [00:18<00:00,  2.09it/s]\n"
     ]
    },
    {
     "name": "stdout",
     "output_type": "stream",
     "text": [
      "Epoch 32: Train Loss=0.1863, Train F1=0.9168, Val Loss=0.8611, Val F1=0.7309\n"
     ]
    },
    {
     "name": "stderr",
     "output_type": "stream",
     "text": [
      "Epoch 33 [Train]: 100%|██████████| 150/150 [02:50<00:00,  1.13s/it]\n",
      "Epoch 33 [Val]: 100%|██████████| 38/38 [00:18<00:00,  2.08it/s]\n"
     ]
    },
    {
     "name": "stdout",
     "output_type": "stream",
     "text": [
      "Epoch 33: Train Loss=0.1899, Train F1=0.9101, Val Loss=0.8986, Val F1=0.7515\n"
     ]
    },
    {
     "name": "stderr",
     "output_type": "stream",
     "text": [
      "Epoch 34 [Train]: 100%|██████████| 150/150 [02:50<00:00,  1.14s/it]\n",
      "Epoch 34 [Val]: 100%|██████████| 38/38 [00:18<00:00,  2.09it/s]\n"
     ]
    },
    {
     "name": "stdout",
     "output_type": "stream",
     "text": [
      "Epoch 34: Train Loss=0.1702, Train F1=0.9265, Val Loss=0.9152, Val F1=0.7437\n"
     ]
    },
    {
     "name": "stderr",
     "output_type": "stream",
     "text": [
      "Epoch 35 [Train]: 100%|██████████| 150/150 [02:50<00:00,  1.14s/it]\n",
      "Epoch 35 [Val]: 100%|██████████| 38/38 [00:18<00:00,  2.10it/s]\n"
     ]
    },
    {
     "name": "stdout",
     "output_type": "stream",
     "text": [
      "Epoch 35: Train Loss=0.1656, Train F1=0.9263, Val Loss=0.9715, Val F1=0.7464\n"
     ]
    },
    {
     "name": "stderr",
     "output_type": "stream",
     "text": [
      "Epoch 36 [Train]: 100%|██████████| 150/150 [02:49<00:00,  1.13s/it]\n",
      "Epoch 36 [Val]: 100%|██████████| 38/38 [00:18<00:00,  2.09it/s]\n"
     ]
    },
    {
     "name": "stdout",
     "output_type": "stream",
     "text": [
      "Epoch 36: Train Loss=0.1614, Train F1=0.9283, Val Loss=1.0037, Val F1=0.7563\n"
     ]
    },
    {
     "name": "stderr",
     "output_type": "stream",
     "text": [
      "Epoch 37 [Train]: 100%|██████████| 150/150 [02:50<00:00,  1.14s/it]\n",
      "Epoch 37 [Val]: 100%|██████████| 38/38 [00:18<00:00,  2.11it/s]\n"
     ]
    },
    {
     "name": "stdout",
     "output_type": "stream",
     "text": [
      "Epoch 37: Train Loss=0.1589, Train F1=0.9296, Val Loss=0.9210, Val F1=0.7572\n"
     ]
    },
    {
     "name": "stderr",
     "output_type": "stream",
     "text": [
      "Epoch 38 [Train]: 100%|██████████| 150/150 [02:50<00:00,  1.14s/it]\n",
      "Epoch 38 [Val]: 100%|██████████| 38/38 [00:18<00:00,  2.08it/s]\n"
     ]
    },
    {
     "name": "stdout",
     "output_type": "stream",
     "text": [
      "Epoch 38: Train Loss=0.1469, Train F1=0.9373, Val Loss=0.9634, Val F1=0.7416\n"
     ]
    },
    {
     "name": "stderr",
     "output_type": "stream",
     "text": [
      "Epoch 39 [Train]: 100%|██████████| 150/150 [02:50<00:00,  1.13s/it]\n",
      "Epoch 39 [Val]: 100%|██████████| 38/38 [00:18<00:00,  2.10it/s]\n"
     ]
    },
    {
     "name": "stdout",
     "output_type": "stream",
     "text": [
      "Epoch 39: Train Loss=0.1528, Train F1=0.9326, Val Loss=0.9679, Val F1=0.7518\n"
     ]
    },
    {
     "name": "stderr",
     "output_type": "stream",
     "text": [
      "Epoch 40 [Train]: 100%|██████████| 150/150 [02:50<00:00,  1.14s/it]\n",
      "Epoch 40 [Val]: 100%|██████████| 38/38 [00:18<00:00,  2.07it/s]\n"
     ]
    },
    {
     "name": "stdout",
     "output_type": "stream",
     "text": [
      "Epoch 40: Train Loss=0.1435, Train F1=0.9385, Val Loss=0.9268, Val F1=0.7509\n"
     ]
    },
    {
     "name": "stderr",
     "output_type": "stream",
     "text": [
      "Epoch 41 [Train]: 100%|██████████| 150/150 [02:50<00:00,  1.13s/it]\n",
      "Epoch 41 [Val]: 100%|██████████| 38/38 [00:18<00:00,  2.10it/s]\n"
     ]
    },
    {
     "name": "stdout",
     "output_type": "stream",
     "text": [
      "Epoch 41: Train Loss=0.1323, Train F1=0.9419, Val Loss=1.1638, Val F1=0.7329\n"
     ]
    },
    {
     "name": "stderr",
     "output_type": "stream",
     "text": [
      "Epoch 42 [Train]: 100%|██████████| 150/150 [02:50<00:00,  1.13s/it]\n",
      "Epoch 42 [Val]: 100%|██████████| 38/38 [00:18<00:00,  2.06it/s]\n"
     ]
    },
    {
     "name": "stdout",
     "output_type": "stream",
     "text": [
      "Epoch 42: Train Loss=0.1284, Train F1=0.9465, Val Loss=1.0343, Val F1=0.7412\n"
     ]
    },
    {
     "name": "stderr",
     "output_type": "stream",
     "text": [
      "Epoch 43 [Train]: 100%|██████████| 150/150 [02:50<00:00,  1.14s/it]\n",
      "Epoch 43 [Val]: 100%|██████████| 38/38 [00:18<00:00,  2.08it/s]\n"
     ]
    },
    {
     "name": "stdout",
     "output_type": "stream",
     "text": [
      "Epoch 43: Train Loss=0.1239, Train F1=0.9491, Val Loss=1.1203, Val F1=0.7481\n"
     ]
    },
    {
     "name": "stderr",
     "output_type": "stream",
     "text": [
      "Epoch 44 [Train]: 100%|██████████| 150/150 [02:50<00:00,  1.13s/it]\n",
      "Epoch 44 [Val]: 100%|██████████| 38/38 [00:18<00:00,  2.09it/s]\n"
     ]
    },
    {
     "name": "stdout",
     "output_type": "stream",
     "text": [
      "Epoch 44: Train Loss=0.1349, Train F1=0.9386, Val Loss=1.0919, Val F1=0.7567\n"
     ]
    },
    {
     "name": "stderr",
     "output_type": "stream",
     "text": [
      "Epoch 45 [Train]: 100%|██████████| 150/150 [02:50<00:00,  1.14s/it]\n",
      "Epoch 45 [Val]: 100%|██████████| 38/38 [00:18<00:00,  2.10it/s]\n"
     ]
    },
    {
     "name": "stdout",
     "output_type": "stream",
     "text": [
      "Epoch 45: Train Loss=0.1293, Train F1=0.9417, Val Loss=1.0416, Val F1=0.7399\n"
     ]
    },
    {
     "name": "stderr",
     "output_type": "stream",
     "text": [
      "Epoch 46 [Train]: 100%|██████████| 150/150 [02:50<00:00,  1.13s/it]\n",
      "Epoch 46 [Val]: 100%|██████████| 38/38 [00:17<00:00,  2.11it/s]\n"
     ]
    },
    {
     "name": "stdout",
     "output_type": "stream",
     "text": [
      "Epoch 46: Train Loss=0.1184, Train F1=0.9510, Val Loss=1.1281, Val F1=0.7363\n"
     ]
    },
    {
     "name": "stderr",
     "output_type": "stream",
     "text": [
      "Epoch 47 [Train]: 100%|██████████| 150/150 [02:50<00:00,  1.14s/it]\n",
      "Epoch 47 [Val]: 100%|██████████| 38/38 [00:18<00:00,  2.09it/s]\n"
     ]
    },
    {
     "name": "stdout",
     "output_type": "stream",
     "text": [
      "Epoch 47: Train Loss=0.1235, Train F1=0.9472, Val Loss=1.0186, Val F1=0.7420\n"
     ]
    },
    {
     "name": "stderr",
     "output_type": "stream",
     "text": [
      "Epoch 48 [Train]: 100%|██████████| 150/150 [02:50<00:00,  1.13s/it]\n",
      "Epoch 48 [Val]: 100%|██████████| 38/38 [00:18<00:00,  2.11it/s]\n"
     ]
    },
    {
     "name": "stdout",
     "output_type": "stream",
     "text": [
      "Epoch 48: Train Loss=0.1027, Train F1=0.9587, Val Loss=1.0645, Val F1=0.7367\n"
     ]
    },
    {
     "name": "stderr",
     "output_type": "stream",
     "text": [
      "Epoch 49 [Train]: 100%|██████████| 150/150 [02:50<00:00,  1.14s/it]\n",
      "Epoch 49 [Val]: 100%|██████████| 38/38 [00:18<00:00,  2.10it/s]\n"
     ]
    },
    {
     "name": "stdout",
     "output_type": "stream",
     "text": [
      "Epoch 49: Train Loss=0.1092, Train F1=0.9546, Val Loss=1.1924, Val F1=0.7364\n"
     ]
    },
    {
     "name": "stderr",
     "output_type": "stream",
     "text": [
      "Epoch 50 [Train]: 100%|██████████| 150/150 [02:50<00:00,  1.14s/it]\n",
      "Epoch 50 [Val]: 100%|██████████| 38/38 [00:18<00:00,  2.07it/s]"
     ]
    },
    {
     "name": "stdout",
     "output_type": "stream",
     "text": [
      "Epoch 50: Train Loss=0.1061, Train F1=0.9493, Val Loss=1.1042, Val F1=0.7428\n"
     ]
    },
    {
     "name": "stderr",
     "output_type": "stream",
     "text": [
      "\n"
     ]
    }
   ],
   "source": [
    "# --- Training Loop ---\n",
    "# Initialize lists to store F1 scores\n",
    "train_f1_scores = []\n",
    "val_f1_scores = []\n",
    "train_losses = []\n",
    "val_losses = []\n",
    "\n",
    "best_val_f1 = 0.0  # To track the best validation F1 score\n",
    "best_model_path = os.path.join(OUT_DIR, 'best_model.pth')\n",
    "\n",
    "for epoch in range(NUM_EPOCHS):\n",
    "    model.train()\n",
    "    train_loss = 0\n",
    "    train_preds, train_labels = [], []\n",
    "\n",
    "    for images, labels in tqdm(train_loader, desc=f\"Epoch {epoch+1} [Train]\"):\n",
    "        images, labels = images.to(DEVICE), labels.to(DEVICE)\n",
    "        optimizer.zero_grad()\n",
    "        outputs = model(images)\n",
    "        loss = criterion(outputs, labels)\n",
    "        loss.backward()\n",
    "        optimizer.step()\n",
    "\n",
    "        train_loss += loss.item()\n",
    "        train_preds.extend(outputs.argmax(dim=1).cpu().numpy())\n",
    "        train_labels.extend(labels.cpu().numpy())\n",
    "\n",
    "    train_f1 = f1_score(train_labels, train_preds, average='macro')\n",
    "    train_f1_scores.append(train_f1)\n",
    "    train_losses.append(train_loss / len(train_loader))  # Average train loss\n",
    "\n",
    "    # --- Validation ---\n",
    "    model.eval()\n",
    "    val_loss = 0\n",
    "    val_preds, val_labels = [], []\n",
    "    with torch.no_grad():\n",
    "        for images, labels in tqdm(val_loader, desc=f\"Epoch {epoch+1} [Val]\"):\n",
    "            images, labels = images.to(DEVICE), labels.to(DEVICE)\n",
    "            outputs = model(images)\n",
    "            loss = criterion(outputs, labels)\n",
    "            val_loss += loss.item()\n",
    "            val_preds.extend(outputs.argmax(dim=1).cpu().numpy())\n",
    "            val_labels.extend(labels.cpu().numpy())\n",
    "\n",
    "    val_f1 = f1_score(val_labels, val_preds, average='macro')\n",
    "    val_f1_scores.append(val_f1)\n",
    "    val_losses.append(val_loss / len(val_loader))  # Average validation loss\n",
    "\n",
    "    print(f\"Epoch {epoch+1}: Train Loss={train_losses[-1]:.4f}, Train F1={train_f1:.4f}, Val Loss={val_losses[-1]:.4f}, Val F1={val_f1:.4f}\")\n",
    "\n",
    "    # Save the best model\n",
    "    if val_f1 > best_val_f1:\n",
    "        best_val_f1 = val_f1\n",
    "        torch.save(model.state_dict(), best_model_path)\n",
    "        print(f\"✅ Best model saved with Val F1={best_val_f1:.4f}\")\n",
    "\n",
    "    # Save checkpoint for each epoch if enabled\n",
    "    # if SAVE_CHECKPOINT and (epoch + 1) % 5 == 0:\n",
    "    if SAVE_CHECKPOINT:\n",
    "        checkpoint_path = os.path.join(OUT_DIR, f\"model_epoch_{epoch+1}.pth\")\n",
    "        torch.save(model.state_dict(), checkpoint_path)"
   ]
  },
  {
   "cell_type": "code",
   "execution_count": 12,
   "metadata": {
    "execution": {
     "iopub.execute_input": "2025-04-06T00:01:48.023532Z",
     "iopub.status.busy": "2025-04-06T00:01:48.023282Z",
     "iopub.status.idle": "2025-04-06T00:01:48.714381Z",
     "shell.execute_reply": "2025-04-06T00:01:48.713425Z",
     "shell.execute_reply.started": "2025-04-06T00:01:48.023510Z"
    },
    "trusted": true
   },
   "outputs": [
    {
     "data": {
      "image/png": "[encoded data removed]",
      "text/plain": [
       "<Figure size 1000x600 with 1 Axes>"
      ]
     },
     "metadata": {},
     "output_type": "display_data"
    },
    {
     "name": "stdout",
     "output_type": "stream",
     "text": [
      "✅ F1 score plot saved at ./results/f1_scores_plot.png\n"
     ]
    },
    {
     "data": {
      "image/png": "[encoded data removed]",
      "text/plain": [
       "<Figure size 1000x600 with 1 Axes>"
      ]
     },
     "metadata": {},
     "output_type": "display_data"
    },
    {
     "name": "stdout",
     "output_type": "stream",
     "text": [
      "✅ Loss plot saved at ./results/losses_plot.png\n"
     ]
    }
   ],
   "source": [
    "# --- Plot F1 Scores ---\n",
    "plt.figure(figsize=(10, 6))\n",
    "plt.plot(range(1, NUM_EPOCHS + 1), train_f1_scores, label='Train F1', marker='o')\n",
    "plt.plot(range(1, NUM_EPOCHS + 1), val_f1_scores, label='Validation F1', marker='o')\n",
    "plt.xlabel('Epoch')\n",
    "plt.ylabel('F1 Score')\n",
    "plt.title('F1 Score Over Epochs')\n",
    "plt.legend()\n",
    "plt.grid(True)\n",
    "plot_path = os.path.join(OUT_DIR, 'f1_scores_plot.png')\n",
    "plt.savefig(plot_path)\n",
    "plt.show()\n",
    "print(f\"✅ F1 score plot saved at {plot_path}\")\n",
    "\n",
    "# --- Plot Losses ---\n",
    "plt.figure(figsize=(10, 6))\n",
    "plt.plot(range(1, NUM_EPOCHS + 1), train_losses, label='Train Loss', marker='o')\n",
    "plt.plot(range(1, NUM_EPOCHS + 1), val_losses, label='Validation Loss', marker='o')\n",
    "plt.xlabel('Epoch')\n",
    "plt.ylabel('Loss')\n",
    "plt.title('Loss Over Epochs')\n",
    "plt.legend()\n",
    "plt.grid(True)\n",
    "plot_path = os.path.join(OUT_DIR, 'losses_plot.png')\n",
    "plt.savefig(plot_path)\n",
    "plt.show()\n",
    "print(f\"✅ Loss plot saved at {plot_path}\")"
   ]
  },
  {
   "cell_type": "code",
   "execution_count": 13,
   "metadata": {
    "execution": {
     "iopub.execute_input": "2025-04-06T00:01:48.715900Z",
     "iopub.status.busy": "2025-04-06T00:01:48.715623Z",
     "iopub.status.idle": "2025-04-06T00:01:49.562202Z",
     "shell.execute_reply": "2025-04-06T00:01:49.561463Z",
     "shell.execute_reply.started": "2025-04-06T00:01:48.715878Z"
    },
    "trusted": true
   },
   "outputs": [],
   "source": [
    "# load best model\n",
    "# model = models.resnet18(pretrained=True)\n",
    "# model.fc = nn.Sequential(\n",
    "#     nn.Linear(model.fc.in_features, 256),\n",
    "#     nn.ReLU(),\n",
    "#     nn.Dropout(0.3),\n",
    "#     nn.Linear(256, 3)\n",
    "# )\n",
    "\n",
    "model = models.swin_t(weights=weights)\n",
    "model.head = nn.Sequential(\n",
    "    nn.Linear(model.head.in_features, 256),\n",
    "    nn.ReLU(),\n",
    "    nn.Dropout(0.3),\n",
    "    nn.Linear(256, NUM_CLASSES)\n",
    ")\n",
    "\n",
    "model = model.to(DEVICE)\n",
    "best_model_path = os.path.join(OUT_DIR, 'model_epoch_4.pth')\n",
    "model.load_state_dict(torch.load(best_model_path, weights_only=True))\n",
    "model = model.to(DEVICE)"
   ]
  },
  {
   "cell_type": "code",
   "execution_count": 14,
   "metadata": {
    "execution": {
     "iopub.execute_input": "2025-04-06T00:01:49.563261Z",
     "iopub.status.busy": "2025-04-06T00:01:49.563039Z",
     "iopub.status.idle": "2025-04-06T00:01:57.032210Z",
     "shell.execute_reply": "2025-04-06T00:01:57.031394Z",
     "shell.execute_reply.started": "2025-04-06T00:01:49.563244Z"
    },
    "trusted": true
   },
   "outputs": [
    {
     "name": "stderr",
     "output_type": "stream",
     "text": [
      "Predicting: 100%|██████████| 13/13 [00:07<00:00,  1.75it/s]"
     ]
    },
    {
     "name": "stdout",
     "output_type": "stream",
     "text": [
      "Submission saved to ./results/test.csv\n",
      "     id  GalaxyType\n",
      "133   1           2\n",
      "398   2           0\n",
      "348   3           2\n",
      "336   4           2\n",
      "35    5           0\n"
     ]
    },
    {
     "name": "stderr",
     "output_type": "stream",
     "text": [
      "\n"
     ]
    }
   ],
   "source": [
    "# --- Test Prediction ---\n",
    "model.eval()\n",
    "predictions = []\n",
    "asset_ids = []\n",
    "\n",
    "with torch.no_grad():\n",
    "    for images, ids in tqdm(test_loader, desc=\"Predicting\"):\n",
    "        images = images.to(DEVICE)\n",
    "        outputs = model(images)\n",
    "        preds = outputs.argmax(dim=1).cpu().numpy()\n",
    "        predictions.extend(preds)\n",
    "        asset_ids.extend(ids.cpu().numpy())  # Convert tensor to numpy array and extend\n",
    "\n",
    "# --- Save Submission ---\n",
    "submission_df = pd.DataFrame({'id': asset_ids, 'GalaxyType': predictions})\n",
    "submission_df.sort_values('id', inplace=True)\n",
    "submission_df.to_csv(OUT_TEST_CSV, index=False)\n",
    "print(f\"Submission saved to {OUT_TEST_CSV}\")\n",
    "print(submission_df.head())\n"
   ]
  },
  {
   "cell_type": "code",
   "execution_count": null,
   "metadata": {
    "trusted": true
   },
   "outputs": [],
   "source": []
  }
 ],
 "metadata": {
  "kaggle": {
   "accelerator": "gpu",
   "dataSources": [
    {
     "databundleVersionId": 11701491,
     "sourceId": 98105,
     "sourceType": "competition"
    }
   ],
   "dockerImageVersionId": 30919,
   "isGpuEnabled": true,
   "isInternetEnabled": true,
   "language": "python",
   "sourceType": "notebook"
  },
  "kernelspec": {
   "display_name": "Python 3",
   "language": "python",
   "name": "python3"
  },
  "language_info": {
   "codemirror_mode": {
    "name": "ipython",
    "version": 3
   },
   "file_extension": ".py",
   "mimetype": "text/x-python",
   "name": "python",
   "nbconvert_exporter": "python",
   "pygments_lexer": "ipython3",
   "version": "3.10.12"
  }
 },
 "nbformat": 4,
 "nbformat_minor": 4
}

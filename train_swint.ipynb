{
 "cells": [
  {
   "cell_type": "code",
   "execution_count": 5,
   "metadata": {
    "_cell_guid": "b1076dfc-b9ad-4769-8c92-a6c4dae69d19",
    "_uuid": "8f2839f25d086af736a60e9eeb907d3b93b6e0e5",
    "execution": {
     "iopub.execute_input": "2025-04-06T00:28:09.440267Z",
     "iopub.status.busy": "2025-04-06T00:28:09.439978Z",
     "iopub.status.idle": "2025-04-06T00:28:09.448499Z",
     "shell.execute_reply": "2025-04-06T00:28:09.447676Z",
     "shell.execute_reply.started": "2025-04-06T00:28:09.440244Z"
    },
    "trusted": true
   },
   "outputs": [
    {
     "name": "stdout",
     "output_type": "stream",
     "text": [
      "Using device: cuda\n"
     ]
    }
   ],
   "source": [
    "import os\n",
    "import numpy as np\n",
    "import pandas as pd\n",
    "import matplotlib.pyplot as plt\n",
    "from PIL import Image\n",
    "import torch\n",
    "import torch.nn as nn\n",
    "import torchvision.transforms as transforms\n",
    "from torchvision import models\n",
    "from torch.utils.data import Dataset, DataLoader, Subset\n",
    "from sklearn.metrics import f1_score\n",
    "from sklearn.model_selection import StratifiedShuffleSplit, train_test_split\n",
    "from tqdm import tqdm\n",
    "\n",
    "device = torch.device(\"cuda\" if torch.cuda.is_available() else \"cpu\")\n",
    "print(\"Using device:\", device)\n",
    "\n",
    "\n",
    "def set_all_seed(seed=42):\n",
    "    torch.manual_seed(seed)\n",
    "    if torch.cuda.is_available():\n",
    "        torch.cuda.manual_seed_all(seed)\n",
    "    np.random.seed(seed)\n",
    "seed = 0\n",
    "set_all_seed(seed=seed)"
   ]
  },
  {
   "cell_type": "code",
   "execution_count": 6,
   "metadata": {
    "execution": {
     "iopub.execute_input": "2025-04-06T00:28:09.449673Z",
     "iopub.status.busy": "2025-04-06T00:28:09.449457Z",
     "iopub.status.idle": "2025-04-06T00:28:09.469712Z",
     "shell.execute_reply": "2025-04-06T00:28:09.469005Z",
     "shell.execute_reply.started": "2025-04-06T00:28:09.449646Z"
    },
    "trusted": true
   },
   "outputs": [],
   "source": [
    "# Paths\n",
    "# TRAIN_DIR = './cosmic-curator/train_images'\n",
    "# TEST_DIR = './cosmic-curator/test_images'\n",
    "# TRAIN_CSV = './cosmic-curator/train2.csv'\n",
    "\n",
    "TRAIN_DIR = '/kaggle/input/cosmic-curator/train_images_updated/train_images_updated'\n",
    "TEST_DIR = '/kaggle/input/cosmic-curator/test_images/test_images'\n",
    "TRAIN_CSV = '/kaggle/input/cosmic-curator/train_images_updated.csv'\n",
    "OUT_DIR = './results'\n",
    "if os.path.exists(OUT_DIR):\n",
    "    import shutil\n",
    "    shutil.rmtree(OUT_DIR)\n",
    "# create directory\n",
    "os.makedirs(OUT_DIR, exist_ok=True)\n",
    "OUT_TRAIN_CSV = os.path.join(OUT_DIR, 'train.csv')\n",
    "OUT_TEST_CSV = os.path.join(OUT_DIR, 'test.csv')\n",
    "DEVICE = torch.device(\"cuda\" if torch.cuda.is_available() else \"cpu\")\n",
    "\n",
    "# Parameters\n",
    "BATCH_SIZE = 32\n",
    "# BATCH_SIZE = 16\n",
    "NUM_CLASSES = 3\n",
    "NUM_EPOCHS = 30\n",
    "LEARNING_RATE = 3e-5\n",
    "IMG_SIZE = 224\n",
    "VAL_SPLIT = 0.1\n",
    "SAVE_CHECKPOINT = True"
   ]
  },
  {
   "cell_type": "code",
   "execution_count": null,
   "metadata": {
    "execution": {
     "iopub.execute_input": "2025-04-06T00:28:09.471740Z",
     "iopub.status.busy": "2025-04-06T00:28:09.471469Z",
     "iopub.status.idle": "2025-04-06T00:28:09.487907Z",
     "shell.execute_reply": "2025-04-06T00:28:09.487174Z",
     "shell.execute_reply.started": "2025-04-06T00:28:09.471719Z"
    },
    "trusted": true
   },
   "outputs": [],
   "source": [
    "# --- Custom Dataset ---\n",
    "class GalaxyDataset(Dataset):\n",
    "    def __init__(self, df, img_dir, transform=None, is_test=False):\n",
    "        self.df = df.reset_index(drop=True)\n",
    "        self.img_dir = img_dir\n",
    "        self.transform = transform\n",
    "        self.is_test = is_test\n",
    "\n",
    "    def __len__(self):\n",
    "        return len(self.df)\n",
    "\n",
    "    def __getitem__(self, idx):\n",
    "        asset_id = self.df.loc[idx, 'asset_id']\n",
    "        img_path = os.path.join(self.img_dir, f\"{asset_id}.jpg\")\n",
    "        image = Image.open(img_path).convert(\"RGB\")\n",
    "\n",
    "        if self.transform:\n",
    "            image = self.transform(image)\n",
    "\n",
    "        if self.is_test:\n",
    "            return image, asset_id\n",
    "        else:\n",
    "            label = int(self.df.loc[idx, 'GalaxyType'])\n",
    "            return image, label"
   ]
  },
  {
   "cell_type": "code",
   "execution_count": null,
   "metadata": {},
   "outputs": [],
   "source": [
    "# # --- Transforms ---\n",
    "\n",
    "# # Resnet Transforms\n",
    "# train_transform = transforms.Compose([\n",
    "#     transforms.Resize((IMG_SIZE, IMG_SIZE)),\n",
    "#     transforms.RandomHorizontalFlip(),\n",
    "#     transforms.RandomRotation(30),\n",
    "#     transforms.ColorJitter(brightness=0.2, contrast=0.2, saturation=0.2, hue=0.1),\n",
    "#     transforms.RandomResizedCrop(IMG_SIZE, scale=(0.8, 1.0)),\n",
    "#     transforms.ToTensor(),\n",
    "#     transforms.Normalize([0.485, 0.456, 0.406],\n",
    "#                          [0.229, 0.224, 0.225])\n",
    "# ])\n",
    "\n",
    "# test_transform = transforms.Compose([\n",
    "#     transforms.Resize((IMG_SIZE, IMG_SIZE)),\n",
    "#     transforms.ToTensor(),\n",
    "#     transforms.Normalize([0.485, 0.456, 0.406],\n",
    "#                          [0.229, 0.224, 0.225])\n",
    "# ])\n",
    "\n",
    "# # SwinT Transforms\n",
    "weights = models.Swin_T_Weights.DEFAULT\n",
    "train_transform = transforms.Compose([\n",
    "    transforms.Resize((IMG_SIZE, IMG_SIZE)),\n",
    "    transforms.RandomHorizontalFlip(),\n",
    "    transforms.RandomRotation(20),\n",
    "    transforms.ToTensor(),\n",
    "    transforms.Normalize(mean=[0.5, 0.5, 0.5],\n",
    "                         std=[0.5, 0.5, 0.5])\n",
    "])\n",
    "\n",
    "test_transform = transforms.Compose([\n",
    "    transforms.Resize((IMG_SIZE, IMG_SIZE)),\n",
    "    transforms.ToTensor(),\n",
    "    transforms.Normalize(mean=[0.5, 0.5, 0.5],\n",
    "                         std=[0.5, 0.5, 0.5])\n",
    "])"
   ]
  },
  {
   "cell_type": "code",
   "execution_count": 8,
   "metadata": {
    "execution": {
     "iopub.execute_input": "2025-04-06T00:28:09.489255Z",
     "iopub.status.busy": "2025-04-06T00:28:09.488970Z",
     "iopub.status.idle": "2025-04-06T00:28:09.525772Z",
     "shell.execute_reply": "2025-04-06T00:28:09.525115Z",
     "shell.execute_reply.started": "2025-04-06T00:28:09.489223Z"
    },
    "trusted": true
   },
   "outputs": [
    {
     "name": "stdout",
     "output_type": "stream",
     "text": [
      "Images in train set: 5994\n",
      "Images in test set: 412\n",
      "After splitting into train and val sets:\n",
      "Train size: 5394\n",
      "Val size: 600\n",
      "Test size: 412\n"
     ]
    }
   ],
   "source": [
    "# --- Load CSV ---\n",
    "train_df = pd.read_csv(TRAIN_CSV)\n",
    "print(\"Images in train set:\", len(train_df))\n",
    "# delete the images that are not in the train set\n",
    "train_img_asset_ids = [int(f.split('.')[0]) for f in os.listdir(TRAIN_DIR) if f.endswith('.jpg')]\n",
    "train_df = train_df[train_df['asset_id'].isin(train_img_asset_ids)]\n",
    "train_df = train_df.reset_index(drop=True)\n",
    "\n",
    "test_asset_ids = [int(f.split('.')[0]) for f in os.listdir(TEST_DIR) if f.endswith('.jpg')]\n",
    "test_df = pd.DataFrame({'asset_id': test_asset_ids})\n",
    "print(\"Images in test set:\", len(test_df))\n",
    "\n",
    "\n",
    "# --- Train/Val Split ---\n",
    "train_df, val_df = train_test_split(train_df, test_size=VAL_SPLIT, stratify=train_df['GalaxyType'], random_state=seed)\n",
    "train_df = train_df.reset_index(drop=True)\n",
    "val_df = val_df.reset_index(drop=True)\n",
    "print(\"After splitting into train and val sets:\")\n",
    "print(\"Train size:\", len(train_df))\n",
    "print(\"Val size:\", len(val_df))\n",
    "print(\"Test size:\", len(test_df))"
   ]
  },
  {
   "cell_type": "code",
   "execution_count": 9,
   "metadata": {
    "execution": {
     "iopub.execute_input": "2025-04-06T00:28:09.526659Z",
     "iopub.status.busy": "2025-04-06T00:28:09.526467Z",
     "iopub.status.idle": "2025-04-06T00:28:09.536157Z",
     "shell.execute_reply": "2025-04-06T00:28:09.535183Z",
     "shell.execute_reply.started": "2025-04-06T00:28:09.526642Z"
    },
    "trusted": true
   },
   "outputs": [
    {
     "name": "stdout",
     "output_type": "stream",
     "text": [
      "Train class counts:\n",
      "GalaxyType\n",
      "2    2952\n",
      "0    1637\n",
      "1     805\n",
      "Name: count, dtype: int64\n",
      "Val class counts:\n",
      "GalaxyType\n",
      "2    328\n",
      "0    182\n",
      "1     90\n",
      "Name: count, dtype: int64\n"
     ]
    }
   ],
   "source": [
    "# class counts\n",
    "print(\"Train class counts:\")\n",
    "print(train_df['GalaxyType'].value_counts())\n",
    "print(\"Val class counts:\")\n",
    "print(val_df['GalaxyType'].value_counts())"
   ]
  },
  {
   "cell_type": "code",
   "execution_count": 10,
   "metadata": {
    "execution": {
     "iopub.execute_input": "2025-04-06T00:28:09.537233Z",
     "iopub.status.busy": "2025-04-06T00:28:09.536980Z",
     "iopub.status.idle": "2025-04-06T00:28:09.554111Z",
     "shell.execute_reply": "2025-04-06T00:28:09.553237Z",
     "shell.execute_reply.started": "2025-04-06T00:28:09.537213Z"
    },
    "trusted": true
   },
   "outputs": [
    {
     "name": "stdout",
     "output_type": "stream",
     "text": [
      "Train dataset size: 5394\n",
      "Validation dataset size: 600\n",
      "Test dataset size: 412\n",
      "Train loader size: 169\n",
      "Validation loader size: 19\n",
      "Test loader size: 13\n"
     ]
    }
   ],
   "source": [
    "train_dataset = GalaxyDataset(train_df, TRAIN_DIR, transform=train_transform)\n",
    "val_dataset = GalaxyDataset(val_df, TRAIN_DIR, transform=test_transform)\n",
    "test_dataset = GalaxyDataset(test_df, TEST_DIR, transform=test_transform, is_test=True)\n",
    "print(\"Train dataset size:\", len(train_dataset))\n",
    "print(\"Validation dataset size:\", len(val_dataset)) \n",
    "print(\"Test dataset size:\", len(test_dataset))\n",
    "\n",
    "train_loader = DataLoader(train_dataset, batch_size=BATCH_SIZE, shuffle=True)\n",
    "val_loader = DataLoader(val_dataset, batch_size=BATCH_SIZE, shuffle=False)\n",
    "test_loader = DataLoader(test_dataset, batch_size=BATCH_SIZE, shuffle=False)\n",
    "\n",
    "print(\"Train loader size:\", len(train_loader))\n",
    "print(\"Validation loader size:\", len(val_loader))\n",
    "print(\"Test loader size:\", len(test_loader))"
   ]
  },
  {
   "cell_type": "code",
   "execution_count": null,
   "metadata": {
    "execution": {
     "iopub.execute_input": "2025-04-06T00:28:09.555293Z",
     "iopub.status.busy": "2025-04-06T00:28:09.554986Z",
     "iopub.status.idle": "2025-04-06T00:28:11.842236Z",
     "shell.execute_reply": "2025-04-06T00:28:11.841585Z",
     "shell.execute_reply.started": "2025-04-06T00:28:09.555251Z"
    },
    "trusted": true
   },
   "outputs": [
    {
     "name": "stderr",
     "output_type": "stream",
     "text": [
      "Downloading: \"https://download.pytorch.org/models/swin_t-704ceda3.pth\" to /root/.cache/torch/hub/checkpoints/swin_t-704ceda3.pth\n",
      "100%|██████████| 108M/108M [00:01<00:00, 90.2MB/s] \n"
     ]
    }
   ],
   "source": [
    "# # --- Model ---\n",
    "# Resnet18\n",
    "# model = models.resnet18(pretrained=True)\n",
    "# model.fc = nn.Sequential(\n",
    "#     nn.Linear(model.fc.in_features, 256),\n",
    "#     nn.ReLU(),\n",
    "#     nn.Dropout(0.3),\n",
    "#     nn.Linear(256, 3)\n",
    "# )\n",
    "\n",
    "# Swin Transformer\n",
    "weights = models.Swin_T_Weights.DEFAULT\n",
    "model = models.swin_t(weights=weights)\n",
    "model.head = nn.Sequential(\n",
    "    nn.Linear(model.head.in_features, 256),\n",
    "    nn.ReLU(),\n",
    "    nn.Dropout(0.3),\n",
    "    nn.Linear(256, NUM_CLASSES)\n",
    ")\n",
    "\n",
    "model = model.to(DEVICE)\n",
    "\n",
    "criterion = nn.CrossEntropyLoss()\n",
    "optimizer = torch.optim.AdamW(model.parameters(), lr=LEARNING_RATE, weight_decay=0.01)"
   ]
  },
  {
   "cell_type": "code",
   "execution_count": 12,
   "metadata": {
    "execution": {
     "iopub.execute_input": "2025-04-06T00:28:11.843887Z",
     "iopub.status.busy": "2025-04-06T00:28:11.843586Z",
     "iopub.status.idle": "2025-04-06T01:04:42.955572Z",
     "shell.execute_reply": "2025-04-06T01:04:42.954797Z",
     "shell.execute_reply.started": "2025-04-06T00:28:11.843863Z"
    },
    "trusted": true
   },
   "outputs": [
    {
     "name": "stderr",
     "output_type": "stream",
     "text": [
      "Epoch 1 [Train]: 100%|██████████| 169/169 [01:33<00:00,  1.80it/s]\n",
      "Epoch 1 [Val]: 100%|██████████| 19/19 [00:06<00:00,  2.73it/s]\n"
     ]
    },
    {
     "name": "stdout",
     "output_type": "stream",
     "text": [
      "Epoch 1: Train Loss=0.7002, Train F1=0.6051, Val Loss=0.5973, Val F1=0.7038\n",
      "✅ Best model saved with Val F1=0.7038\n"
     ]
    },
    {
     "name": "stderr",
     "output_type": "stream",
     "text": [
      "Epoch 2 [Train]: 100%|██████████| 169/169 [01:08<00:00,  2.48it/s]\n",
      "Epoch 2 [Val]: 100%|██████████| 19/19 [00:04<00:00,  4.67it/s]\n"
     ]
    },
    {
     "name": "stdout",
     "output_type": "stream",
     "text": [
      "Epoch 2: Train Loss=0.5673, Train F1=0.7198, Val Loss=0.5696, Val F1=0.7240\n",
      "✅ Best model saved with Val F1=0.7240\n"
     ]
    },
    {
     "name": "stderr",
     "output_type": "stream",
     "text": [
      "Epoch 3 [Train]: 100%|██████████| 169/169 [01:08<00:00,  2.48it/s]\n",
      "Epoch 3 [Val]: 100%|██████████| 19/19 [00:04<00:00,  4.63it/s]\n"
     ]
    },
    {
     "name": "stdout",
     "output_type": "stream",
     "text": [
      "Epoch 3: Train Loss=0.5333, Train F1=0.7330, Val Loss=0.5932, Val F1=0.6942\n"
     ]
    },
    {
     "name": "stderr",
     "output_type": "stream",
     "text": [
      "Epoch 4 [Train]: 100%|██████████| 169/169 [01:08<00:00,  2.47it/s]\n",
      "Epoch 4 [Val]: 100%|██████████| 19/19 [00:04<00:00,  4.69it/s]\n"
     ]
    },
    {
     "name": "stdout",
     "output_type": "stream",
     "text": [
      "Epoch 4: Train Loss=0.5199, Train F1=0.7420, Val Loss=0.5700, Val F1=0.7298\n",
      "✅ Best model saved with Val F1=0.7298\n"
     ]
    },
    {
     "name": "stderr",
     "output_type": "stream",
     "text": [
      "Epoch 5 [Train]: 100%|██████████| 169/169 [01:08<00:00,  2.46it/s]\n",
      "Epoch 5 [Val]: 100%|██████████| 19/19 [00:04<00:00,  4.55it/s]\n"
     ]
    },
    {
     "name": "stdout",
     "output_type": "stream",
     "text": [
      "Epoch 5: Train Loss=0.4866, Train F1=0.7660, Val Loss=0.5260, Val F1=0.7453\n",
      "✅ Best model saved with Val F1=0.7453\n"
     ]
    },
    {
     "name": "stderr",
     "output_type": "stream",
     "text": [
      "Epoch 6 [Train]: 100%|██████████| 169/169 [01:08<00:00,  2.47it/s]\n",
      "Epoch 6 [Val]: 100%|██████████| 19/19 [00:04<00:00,  4.55it/s]\n"
     ]
    },
    {
     "name": "stdout",
     "output_type": "stream",
     "text": [
      "Epoch 6: Train Loss=0.4717, Train F1=0.7745, Val Loss=0.5165, Val F1=0.7458\n",
      "✅ Best model saved with Val F1=0.7458\n"
     ]
    },
    {
     "name": "stderr",
     "output_type": "stream",
     "text": [
      "Epoch 7 [Train]: 100%|██████████| 169/169 [01:07<00:00,  2.49it/s]\n",
      "Epoch 7 [Val]: 100%|██████████| 19/19 [00:04<00:00,  4.58it/s]\n"
     ]
    },
    {
     "name": "stdout",
     "output_type": "stream",
     "text": [
      "Epoch 7: Train Loss=0.4558, Train F1=0.7844, Val Loss=0.5224, Val F1=0.7594\n",
      "✅ Best model saved with Val F1=0.7594\n"
     ]
    },
    {
     "name": "stderr",
     "output_type": "stream",
     "text": [
      "Epoch 8 [Train]: 100%|██████████| 169/169 [01:08<00:00,  2.48it/s]\n",
      "Epoch 8 [Val]: 100%|██████████| 19/19 [00:04<00:00,  4.68it/s]\n"
     ]
    },
    {
     "name": "stdout",
     "output_type": "stream",
     "text": [
      "Epoch 8: Train Loss=0.4378, Train F1=0.7879, Val Loss=0.5568, Val F1=0.7215\n"
     ]
    },
    {
     "name": "stderr",
     "output_type": "stream",
     "text": [
      "Epoch 9 [Train]: 100%|██████████| 169/169 [01:07<00:00,  2.50it/s]\n",
      "Epoch 9 [Val]: 100%|██████████| 19/19 [00:04<00:00,  4.30it/s]\n"
     ]
    },
    {
     "name": "stdout",
     "output_type": "stream",
     "text": [
      "Epoch 9: Train Loss=0.4263, Train F1=0.7984, Val Loss=0.5194, Val F1=0.7533\n"
     ]
    },
    {
     "name": "stderr",
     "output_type": "stream",
     "text": [
      "Epoch 10 [Train]: 100%|██████████| 169/169 [01:07<00:00,  2.49it/s]\n",
      "Epoch 10 [Val]: 100%|██████████| 19/19 [00:04<00:00,  4.59it/s]\n"
     ]
    },
    {
     "name": "stdout",
     "output_type": "stream",
     "text": [
      "Epoch 10: Train Loss=0.4139, Train F1=0.8038, Val Loss=0.5113, Val F1=0.7550\n"
     ]
    },
    {
     "name": "stderr",
     "output_type": "stream",
     "text": [
      "Epoch 11 [Train]: 100%|██████████| 169/169 [01:07<00:00,  2.49it/s]\n",
      "Epoch 11 [Val]: 100%|██████████| 19/19 [00:04<00:00,  4.61it/s]\n"
     ]
    },
    {
     "name": "stdout",
     "output_type": "stream",
     "text": [
      "Epoch 11: Train Loss=0.3936, Train F1=0.8106, Val Loss=0.5236, Val F1=0.7623\n",
      "✅ Best model saved with Val F1=0.7623\n"
     ]
    },
    {
     "name": "stderr",
     "output_type": "stream",
     "text": [
      "Epoch 12 [Train]: 100%|██████████| 169/169 [01:07<00:00,  2.51it/s]\n",
      "Epoch 12 [Val]: 100%|██████████| 19/19 [00:04<00:00,  4.53it/s]\n"
     ]
    },
    {
     "name": "stdout",
     "output_type": "stream",
     "text": [
      "Epoch 12: Train Loss=0.3858, Train F1=0.8178, Val Loss=0.5320, Val F1=0.7489\n"
     ]
    },
    {
     "name": "stderr",
     "output_type": "stream",
     "text": [
      "Epoch 13 [Train]: 100%|██████████| 169/169 [01:07<00:00,  2.50it/s]\n",
      "Epoch 13 [Val]: 100%|██████████| 19/19 [00:04<00:00,  4.64it/s]\n"
     ]
    },
    {
     "name": "stdout",
     "output_type": "stream",
     "text": [
      "Epoch 13: Train Loss=0.3651, Train F1=0.8248, Val Loss=0.5596, Val F1=0.7581\n"
     ]
    },
    {
     "name": "stderr",
     "output_type": "stream",
     "text": [
      "Epoch 14 [Train]: 100%|██████████| 169/169 [01:07<00:00,  2.50it/s]\n",
      "Epoch 14 [Val]: 100%|██████████| 19/19 [00:04<00:00,  4.47it/s]\n"
     ]
    },
    {
     "name": "stdout",
     "output_type": "stream",
     "text": [
      "Epoch 14: Train Loss=0.3666, Train F1=0.8263, Val Loss=0.5670, Val F1=0.7633\n",
      "✅ Best model saved with Val F1=0.7633\n"
     ]
    },
    {
     "name": "stderr",
     "output_type": "stream",
     "text": [
      "Epoch 15 [Train]: 100%|██████████| 169/169 [01:07<00:00,  2.50it/s]\n",
      "Epoch 15 [Val]: 100%|██████████| 19/19 [00:04<00:00,  4.58it/s]\n"
     ]
    },
    {
     "name": "stdout",
     "output_type": "stream",
     "text": [
      "Epoch 15: Train Loss=0.3298, Train F1=0.8468, Val Loss=0.6048, Val F1=0.7599\n"
     ]
    },
    {
     "name": "stderr",
     "output_type": "stream",
     "text": [
      "Epoch 16 [Train]: 100%|██████████| 169/169 [01:07<00:00,  2.49it/s]\n",
      "Epoch 16 [Val]: 100%|██████████| 19/19 [00:04<00:00,  4.52it/s]\n"
     ]
    },
    {
     "name": "stdout",
     "output_type": "stream",
     "text": [
      "Epoch 16: Train Loss=0.3288, Train F1=0.8512, Val Loss=0.5569, Val F1=0.7676\n",
      "✅ Best model saved with Val F1=0.7676\n"
     ]
    },
    {
     "name": "stderr",
     "output_type": "stream",
     "text": [
      "Epoch 17 [Train]: 100%|██████████| 169/169 [01:07<00:00,  2.51it/s]\n",
      "Epoch 17 [Val]: 100%|██████████| 19/19 [00:03<00:00,  4.76it/s]\n"
     ]
    },
    {
     "name": "stdout",
     "output_type": "stream",
     "text": [
      "Epoch 17: Train Loss=0.3003, Train F1=0.8604, Val Loss=0.6861, Val F1=0.7455\n"
     ]
    },
    {
     "name": "stderr",
     "output_type": "stream",
     "text": [
      "Epoch 18 [Train]: 100%|██████████| 169/169 [01:07<00:00,  2.51it/s]\n",
      "Epoch 18 [Val]: 100%|██████████| 19/19 [00:04<00:00,  4.65it/s]\n"
     ]
    },
    {
     "name": "stdout",
     "output_type": "stream",
     "text": [
      "Epoch 18: Train Loss=0.3049, Train F1=0.8604, Val Loss=0.6853, Val F1=0.7476\n"
     ]
    },
    {
     "name": "stderr",
     "output_type": "stream",
     "text": [
      "Epoch 19 [Train]: 100%|██████████| 169/169 [01:07<00:00,  2.50it/s]\n",
      "Epoch 19 [Val]: 100%|██████████| 19/19 [00:04<00:00,  4.41it/s]\n"
     ]
    },
    {
     "name": "stdout",
     "output_type": "stream",
     "text": [
      "Epoch 19: Train Loss=0.2872, Train F1=0.8695, Val Loss=0.7530, Val F1=0.7657\n"
     ]
    },
    {
     "name": "stderr",
     "output_type": "stream",
     "text": [
      "Epoch 20 [Train]: 100%|██████████| 169/169 [01:07<00:00,  2.51it/s]\n",
      "Epoch 20 [Val]: 100%|██████████| 19/19 [00:04<00:00,  4.47it/s]\n"
     ]
    },
    {
     "name": "stdout",
     "output_type": "stream",
     "text": [
      "Epoch 20: Train Loss=0.2693, Train F1=0.8780, Val Loss=0.7164, Val F1=0.7530\n"
     ]
    },
    {
     "name": "stderr",
     "output_type": "stream",
     "text": [
      "Epoch 21 [Train]: 100%|██████████| 169/169 [01:07<00:00,  2.51it/s]\n",
      "Epoch 21 [Val]: 100%|██████████| 19/19 [00:04<00:00,  4.60it/s]\n"
     ]
    },
    {
     "name": "stdout",
     "output_type": "stream",
     "text": [
      "Epoch 21: Train Loss=0.2597, Train F1=0.8791, Val Loss=0.7127, Val F1=0.7512\n"
     ]
    },
    {
     "name": "stderr",
     "output_type": "stream",
     "text": [
      "Epoch 22 [Train]: 100%|██████████| 169/169 [01:07<00:00,  2.51it/s]\n",
      "Epoch 22 [Val]: 100%|██████████| 19/19 [00:04<00:00,  4.58it/s]\n"
     ]
    },
    {
     "name": "stdout",
     "output_type": "stream",
     "text": [
      "Epoch 22: Train Loss=0.2469, Train F1=0.8896, Val Loss=0.7403, Val F1=0.7377\n"
     ]
    },
    {
     "name": "stderr",
     "output_type": "stream",
     "text": [
      "Epoch 23 [Train]: 100%|██████████| 169/169 [01:07<00:00,  2.49it/s]\n",
      "Epoch 23 [Val]: 100%|██████████| 19/19 [00:04<00:00,  4.61it/s]\n"
     ]
    },
    {
     "name": "stdout",
     "output_type": "stream",
     "text": [
      "Epoch 23: Train Loss=0.2385, Train F1=0.8949, Val Loss=0.7624, Val F1=0.7596\n"
     ]
    },
    {
     "name": "stderr",
     "output_type": "stream",
     "text": [
      "Epoch 24 [Train]: 100%|██████████| 169/169 [01:07<00:00,  2.50it/s]\n",
      "Epoch 24 [Val]: 100%|██████████| 19/19 [00:04<00:00,  4.52it/s]\n"
     ]
    },
    {
     "name": "stdout",
     "output_type": "stream",
     "text": [
      "Epoch 24: Train Loss=0.2237, Train F1=0.8937, Val Loss=0.7143, Val F1=0.7575\n"
     ]
    },
    {
     "name": "stderr",
     "output_type": "stream",
     "text": [
      "Epoch 25 [Train]: 100%|██████████| 169/169 [01:07<00:00,  2.51it/s]\n",
      "Epoch 25 [Val]: 100%|██████████| 19/19 [00:04<00:00,  4.57it/s]\n"
     ]
    },
    {
     "name": "stdout",
     "output_type": "stream",
     "text": [
      "Epoch 25: Train Loss=0.2173, Train F1=0.8964, Val Loss=0.7696, Val F1=0.7399\n"
     ]
    },
    {
     "name": "stderr",
     "output_type": "stream",
     "text": [
      "Epoch 26 [Train]: 100%|██████████| 169/169 [01:07<00:00,  2.52it/s]\n",
      "Epoch 26 [Val]: 100%|██████████| 19/19 [00:04<00:00,  4.56it/s]\n"
     ]
    },
    {
     "name": "stdout",
     "output_type": "stream",
     "text": [
      "Epoch 26: Train Loss=0.1969, Train F1=0.9114, Val Loss=0.8936, Val F1=0.7441\n"
     ]
    },
    {
     "name": "stderr",
     "output_type": "stream",
     "text": [
      "Epoch 27 [Train]: 100%|██████████| 169/169 [01:07<00:00,  2.51it/s]\n",
      "Epoch 27 [Val]: 100%|██████████| 19/19 [00:04<00:00,  4.69it/s]\n"
     ]
    },
    {
     "name": "stdout",
     "output_type": "stream",
     "text": [
      "Epoch 27: Train Loss=0.1957, Train F1=0.9080, Val Loss=0.8045, Val F1=0.7386\n"
     ]
    },
    {
     "name": "stderr",
     "output_type": "stream",
     "text": [
      "Epoch 28 [Train]: 100%|██████████| 169/169 [01:07<00:00,  2.51it/s]\n",
      "Epoch 28 [Val]: 100%|██████████| 19/19 [00:04<00:00,  4.64it/s]\n"
     ]
    },
    {
     "name": "stdout",
     "output_type": "stream",
     "text": [
      "Epoch 28: Train Loss=0.1876, Train F1=0.9162, Val Loss=0.8939, Val F1=0.7470\n"
     ]
    },
    {
     "name": "stderr",
     "output_type": "stream",
     "text": [
      "Epoch 29 [Train]: 100%|██████████| 169/169 [01:07<00:00,  2.51it/s]\n",
      "Epoch 29 [Val]: 100%|██████████| 19/19 [00:04<00:00,  4.74it/s]\n"
     ]
    },
    {
     "name": "stdout",
     "output_type": "stream",
     "text": [
      "Epoch 29: Train Loss=0.1692, Train F1=0.9239, Val Loss=1.0939, Val F1=0.7416\n"
     ]
    },
    {
     "name": "stderr",
     "output_type": "stream",
     "text": [
      "Epoch 30 [Train]: 100%|██████████| 169/169 [01:07<00:00,  2.51it/s]\n",
      "Epoch 30 [Val]: 100%|██████████| 19/19 [00:04<00:00,  4.46it/s]\n"
     ]
    },
    {
     "name": "stdout",
     "output_type": "stream",
     "text": [
      "Epoch 30: Train Loss=0.1678, Train F1=0.9237, Val Loss=0.8354, Val F1=0.7360\n"
     ]
    }
   ],
   "source": [
    "# --- Training Loop ---\n",
    "# Initialize lists to store F1 scores\n",
    "train_f1_scores = []\n",
    "val_f1_scores = []\n",
    "train_losses = []\n",
    "val_losses = []\n",
    "\n",
    "best_val_f1 = 0.0  # To track the best validation F1 score\n",
    "best_model_path = os.path.join(OUT_DIR, 'best_model.pth')\n",
    "\n",
    "for epoch in range(NUM_EPOCHS):\n",
    "    model.train()\n",
    "    train_loss = 0\n",
    "    train_preds, train_labels = [], []\n",
    "\n",
    "    for images, labels in tqdm(train_loader, desc=f\"Epoch {epoch+1} [Train]\"):\n",
    "        images, labels = images.to(DEVICE), labels.to(DEVICE)\n",
    "        optimizer.zero_grad()\n",
    "        outputs = model(images)\n",
    "        loss = criterion(outputs, labels)\n",
    "        loss.backward()\n",
    "        optimizer.step()\n",
    "\n",
    "        train_loss += loss.item()\n",
    "        train_preds.extend(outputs.argmax(dim=1).cpu().numpy())\n",
    "        train_labels.extend(labels.cpu().numpy())\n",
    "\n",
    "    train_f1 = f1_score(train_labels, train_preds, average='macro')\n",
    "    train_f1_scores.append(train_f1)\n",
    "    train_losses.append(train_loss / len(train_loader))  # Average train loss\n",
    "\n",
    "    # --- Validation ---\n",
    "    model.eval()\n",
    "    val_loss = 0\n",
    "    val_preds, val_labels = [], []\n",
    "    with torch.no_grad():\n",
    "        for images, labels in tqdm(val_loader, desc=f\"Epoch {epoch+1} [Val]\"):\n",
    "            images, labels = images.to(DEVICE), labels.to(DEVICE)\n",
    "            outputs = model(images)\n",
    "            loss = criterion(outputs, labels)\n",
    "            val_loss += loss.item()\n",
    "            val_preds.extend(outputs.argmax(dim=1).cpu().numpy())\n",
    "            val_labels.extend(labels.cpu().numpy())\n",
    "\n",
    "    val_f1 = f1_score(val_labels, val_preds, average='macro')\n",
    "    val_f1_scores.append(val_f1)\n",
    "    val_losses.append(val_loss / len(val_loader))  # Average validation loss\n",
    "\n",
    "    print(f\"Epoch {epoch+1}: Train Loss={train_losses[-1]:.4f}, Train F1={train_f1:.4f}, Val Loss={val_losses[-1]:.4f}, Val F1={val_f1:.4f}\")\n",
    "\n",
    "    # Save the best model\n",
    "    if val_f1 > best_val_f1:\n",
    "        best_val_f1 = val_f1\n",
    "        torch.save(model.state_dict(), best_model_path)\n",
    "        print(f\"✅ Best model saved with Val F1={best_val_f1:.4f}\")\n",
    "\n",
    "    # Save checkpoint for each epoch if enabled\n",
    "    # if SAVE_CHECKPOINT and (epoch + 1) % 5 == 0:\n",
    "    if SAVE_CHECKPOINT:\n",
    "        checkpoint_path = os.path.join(OUT_DIR, f\"model_epoch_{epoch+1}.pth\")\n",
    "        torch.save(model.state_dict(), checkpoint_path)"
   ]
  },
  {
   "cell_type": "code",
   "execution_count": 13,
   "metadata": {
    "execution": {
     "iopub.execute_input": "2025-04-06T01:04:42.956861Z",
     "iopub.status.busy": "2025-04-06T01:04:42.956560Z",
     "iopub.status.idle": "2025-04-06T01:04:43.635167Z",
     "shell.execute_reply": "2025-04-06T01:04:43.634187Z",
     "shell.execute_reply.started": "2025-04-06T01:04:42.956835Z"
    },
    "trusted": true
   },
   "outputs": [
    {
     "data": {
      "image/png": "[encoded data removed]",
      "text/plain": [
       "<Figure size 1000x600 with 1 Axes>"
      ]
     },
     "metadata": {},
     "output_type": "display_data"
    },
    {
     "name": "stdout",
     "output_type": "stream",
     "text": [
      "✅ F1 score plot saved at ./results/f1_scores_plot.png\n"
     ]
    },
    {
     "data": {
      "image/png": "[encoded data removed]",
      "text/plain": [
       "<Figure size 1000x600 with 1 Axes>"
      ]
     },
     "metadata": {},
     "output_type": "display_data"
    },
    {
     "name": "stdout",
     "output_type": "stream",
     "text": [
      "✅ Loss plot saved at ./results/losses_plot.png\n"
     ]
    }
   ],
   "source": [
    "# --- Plot F1 Scores ---\n",
    "plt.figure(figsize=(10, 6))\n",
    "plt.plot(range(1, NUM_EPOCHS + 1), train_f1_scores, label='Train F1', marker='o')\n",
    "plt.plot(range(1, NUM_EPOCHS + 1), val_f1_scores, label='Validation F1', marker='o')\n",
    "plt.xlabel('Epoch')\n",
    "plt.ylabel('F1 Score')\n",
    "plt.title('F1 Score Over Epochs')\n",
    "plt.legend()\n",
    "plt.grid(True)\n",
    "plot_path = os.path.join(OUT_DIR, 'f1_scores_plot.png')\n",
    "plt.savefig(plot_path)\n",
    "plt.show()\n",
    "print(f\"✅ F1 score plot saved at {plot_path}\")\n",
    "\n",
    "# --- Plot Losses ---\n",
    "plt.figure(figsize=(10, 6))\n",
    "plt.plot(range(1, NUM_EPOCHS + 1), train_losses, label='Train Loss', marker='o')\n",
    "plt.plot(range(1, NUM_EPOCHS + 1), val_losses, label='Validation Loss', marker='o')\n",
    "plt.xlabel('Epoch')\n",
    "plt.ylabel('Loss')\n",
    "plt.title('Loss Over Epochs')\n",
    "plt.legend()\n",
    "plt.grid(True)\n",
    "plot_path = os.path.join(OUT_DIR, 'losses_plot.png')\n",
    "plt.savefig(plot_path)\n",
    "plt.show()\n",
    "print(f\"✅ Loss plot saved at {plot_path}\")"
   ]
  },
  {
   "cell_type": "code",
   "execution_count": null,
   "metadata": {
    "execution": {
     "iopub.execute_input": "2025-04-06T01:35:01.318908Z",
     "iopub.status.busy": "2025-04-06T01:35:01.318606Z",
     "iopub.status.idle": "2025-04-06T01:35:02.085975Z",
     "shell.execute_reply": "2025-04-06T01:35:02.085238Z",
     "shell.execute_reply.started": "2025-04-06T01:35:01.318886Z"
    },
    "trusted": true
   },
   "outputs": [
    {
     "data": {
      "text/plain": [
       "<All keys matched successfully>"
      ]
     },
     "execution_count": 24,
     "metadata": {},
     "output_type": "execute_result"
    }
   ],
   "source": [
    "# # load best model\n",
    "# # Resnet18\n",
    "# model = models.resnet18(pretrained=True)\n",
    "# model.fc = nn.Sequential(\n",
    "#     nn.Linear(model.fc.in_features, 256),\n",
    "#     nn.ReLU(),\n",
    "#     nn.Dropout(0.3),\n",
    "#     nn.Linear(256, 3)\n",
    "# )\n",
    "\n",
    "# # Swin Transformer\n",
    "model = models.swin_t(weights=weights)\n",
    "model.head = nn.Sequential(\n",
    "    nn.Linear(model.head.in_features, 256),\n",
    "    nn.ReLU(),\n",
    "    nn.Dropout(0.3),\n",
    "    nn.Linear(256, NUM_CLASSES)\n",
    ")\n",
    "\n",
    "model = model.to(DEVICE)\n",
    "best_model_path = os.path.join(OUT_DIR, 'model_epoch_14.pth')\n",
    "model.load_state_dict(torch.load(best_model_path, weights_only=True))\n"
   ]
  },
  {
   "cell_type": "code",
   "execution_count": 25,
   "metadata": {
    "execution": {
     "iopub.execute_input": "2025-04-06T01:35:02.087009Z",
     "iopub.status.busy": "2025-04-06T01:35:02.086801Z",
     "iopub.status.idle": "2025-04-06T01:35:04.771625Z",
     "shell.execute_reply": "2025-04-06T01:35:04.770817Z",
     "shell.execute_reply.started": "2025-04-06T01:35:02.086990Z"
    },
    "trusted": true
   },
   "outputs": [
    {
     "name": "stderr",
     "output_type": "stream",
     "text": [
      "Predicting: 100%|██████████| 13/13 [00:02<00:00,  4.87it/s]"
     ]
    },
    {
     "name": "stdout",
     "output_type": "stream",
     "text": [
      "Submission saved to ./results/test.csv\n",
      "     id  GalaxyType\n",
      "133   1           2\n",
      "398   2           0\n",
      "348   3           2\n",
      "336   4           2\n",
      "35    5           0\n"
     ]
    },
    {
     "name": "stderr",
     "output_type": "stream",
     "text": [
      "\n"
     ]
    }
   ],
   "source": [
    "# --- Test Prediction ---\n",
    "model.eval()\n",
    "predictions = []\n",
    "asset_ids = []\n",
    "\n",
    "with torch.no_grad():\n",
    "    for images, ids in tqdm(test_loader, desc=\"Predicting\"):\n",
    "        images = images.to(DEVICE)\n",
    "        outputs = model(images)\n",
    "        preds = outputs.argmax(dim=1).cpu().numpy()\n",
    "        predictions.extend(preds)\n",
    "        asset_ids.extend(ids.cpu().numpy())  # Convert tensor to numpy array and extend\n",
    "\n",
    "# --- Save Submission ---\n",
    "submission_df = pd.DataFrame({'id': asset_ids, 'GalaxyType': predictions})\n",
    "submission_df.sort_values('id', inplace=True)\n",
    "submission_df.to_csv(OUT_TEST_CSV, index=False)\n",
    "print(f\"Submission saved to {OUT_TEST_CSV}\")\n",
    "print(submission_df.head())\n"
   ]
  },
  {
   "cell_type": "code",
   "execution_count": null,
   "metadata": {
    "trusted": true
   },
   "outputs": [],
   "source": []
  }
 ],
 "metadata": {
  "kaggle": {
   "accelerator": "gpu",
   "dataSources": [
    {
     "databundleVersionId": 11708821,
     "sourceId": 98105,
     "sourceType": "competition"
    }
   ],
   "dockerImageVersionId": 30919,
   "isGpuEnabled": true,
   "isInternetEnabled": true,
   "language": "python",
   "sourceType": "notebook"
  },
  "kernelspec": {
   "display_name": "Python 3",
   "language": "python",
   "name": "python3"
  },
  "language_info": {
   "codemirror_mode": {
    "name": "ipython",
    "version": 3
   },
   "file_extension": ".py",
   "mimetype": "text/x-python",
   "name": "python",
   "nbconvert_exporter": "python",
   "pygments_lexer": "ipython3",
   "version": "3.10.12"
  }
 },
 "nbformat": 4,
 "nbformat_minor": 4
}
